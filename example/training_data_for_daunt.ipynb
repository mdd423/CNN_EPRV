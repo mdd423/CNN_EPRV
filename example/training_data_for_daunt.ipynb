{
 "cells": [
  {
   "cell_type": "markdown",
   "id": "30971a50",
   "metadata": {
    "id": "30971a50"
   },
   "source": [
    "# Make fake flat, LFC, and science exposures to train a CNN?\n",
    "\n",
    "## Author:\n",
    "- **David W Hogg** (NYU)\n",
    "\n",
    "## Bugs:\n",
    "- Insanely slow. Could be sped up (probably) with `jax.vmap`.\n",
    "- No telluric lines.\n",
    "- No bias or sky level.\n",
    "- Cosmic rays are too trivial."
   ]
  },
  {
   "cell_type": "code",
   "execution_count": 1,
   "id": "44cd2c84",
   "metadata": {
    "id": "44cd2c84"
   },
   "outputs": [],
   "source": [
    "import numpy as np\n",
    "import pylab as plt\n",
    "%matplotlib inline"
   ]
  },
  {
   "cell_type": "code",
   "execution_count": 2,
   "id": "NPAj9peMFwgf",
   "metadata": {
    "id": "NPAj9peMFwgf"
   },
   "outputs": [],
   "source": [
    "# Revise default plotting style\n",
    "style_revisions = {\n",
    "            'axes.linewidth': 1.5,\n",
    "            'xtick.top' : True, \n",
    "            'ytick.right' : True, \n",
    "            'xtick.direction' : 'in',\n",
    "            'ytick.direction' : 'in', \n",
    "            'xtick.major.size' : 11, \n",
    "            'ytick.major.size' : 11, \n",
    "            'xtick.minor.size' : 5.5, \n",
    "            'ytick.minor.size' : 5.5,\n",
    "            'font.size' : 16,\n",
    "            'figure.figsize' : [12, 6],\n",
    "            'lines.linewidth' : 2.5,\n",
    "        }\n",
    "plt.rcParams.update(style_revisions)"
   ]
  },
  {
   "cell_type": "code",
   "execution_count": 3,
   "id": "0276f98e",
   "metadata": {
    "id": "0276f98e"
   },
   "outputs": [],
   "source": [
    "# Set defaults.\n",
    "rng = np.random.default_rng(17)\n",
    "TWOPI = 2. * np.pi\n",
    "ONEOVERTWOPI = 1. / TWOPI"
   ]
  },
  {
   "cell_type": "code",
   "execution_count": 4,
   "id": "6ca12fe2",
   "metadata": {
    "id": "6ca12fe2"
   },
   "outputs": [],
   "source": [
    "# Define useful functions.\n",
    "def gaussian_2d(xxs, yys, mean, var):\n",
    "    \"\"\"\n",
    "    `xxs`   should be shape `(nx, ny)`.\n",
    "    `yys`   should be shape `(nx, ny)`.\n",
    "    `mean`  should be shape `(2, )`.\n",
    "    `var`   should be a scalar.\n",
    "    \"\"\"\n",
    "    return ONEOVERTWOPI / var \\\n",
    "           * np.exp(-0.5 / var * ((xxs - mean[0]) ** 2 + (yys - mean[1]) ** 2))\n",
    "def gaussian_1d(xxs, mean, var):\n",
    "    \"\"\"\n",
    "    `xxs`   should be shape `(nx, )`.\n",
    "    `mean`  should be a scalar.\n",
    "    `var`   should be a scalar.\n",
    "    \"\"\"\n",
    "    return np.sqrt(ONEOVERTWOPI / var) \\\n",
    "           * np.exp(-0.5 / var * (xxs - mean) ** 2)"
   ]
  },
  {
   "cell_type": "code",
   "execution_count": 5,
   "id": "uCuRsGcLLORp",
   "metadata": {
    "id": "uCuRsGcLLORp"
   },
   "outputs": [],
   "source": [
    "Nx = 512\n",
    "Ny = 128"
   ]
  },
  {
   "cell_type": "code",
   "execution_count": 6,
   "id": "a121236b",
   "metadata": {
    "id": "a121236b"
   },
   "outputs": [],
   "source": [
    "# Make true 1D spectrum.\n",
    "linexs = - Nx // 2 + 2 * Nx * rng.uniform(size=256)\n",
    "depths = 5. * rng.uniform(size=len(linexs)) ** 4"
   ]
  },
  {
   "cell_type": "code",
   "execution_count": 7,
   "id": "58c9d212",
   "metadata": {
    "id": "58c9d212"
   },
   "outputs": [],
   "source": [
    "# Define trace and the non-orthogonality of the wavelength solution.\n",
    "def trace(xs):\n",
    "    return 107.5 - 0.0002 * (xs - 500.3) ** 2\n",
    "def dxdy(xs):\n",
    "    return - 0.0006 * (xs - 500.3)"
   ]
  },
  {
   "cell_type": "code",
   "execution_count": 8,
   "id": "782f0667",
   "metadata": {
    "id": "782f0667"
   },
   "outputs": [],
   "source": [
    "# Make true flat spots.\n",
    "xspots = np.arange(-5., Nx + 5.01, 1.)\n",
    "yspots = np.arange(-5., 5.01, 1.)\n",
    "\n",
    "# Make true LFC spots.\n",
    "lfcspots = np.arange(-20., Nx + 20.01, 5. * np.pi)"
   ]
  },
  {
   "cell_type": "code",
   "execution_count": 9,
   "id": "O7hNFhv2kglw",
   "metadata": {
    "id": "O7hNFhv2kglw"
   },
   "outputs": [],
   "source": [
    "# Make pixel-level flat\n",
    "pixel_flat = 1. + 0.05 * rng.normal(size=(Ny, Nx))\n",
    "pixel_flat += 0.05 * np.ones(Ny)[:, None] * rng.normal(size=Nx)[None, :]\n",
    "pixel_flat = np.clip(pixel_flat, 0., None)"
   ]
  },
  {
   "cell_type": "code",
   "execution_count": 10,
   "id": "UdUARym2DN7Q",
   "metadata": {
    "id": "UdUARym2DN7Q"
   },
   "outputs": [],
   "source": [
    "def make_flat_lfc_science():\n",
    "    \"\"\"\n",
    "    ## bugs:\n",
    "    - Everything is hard coded and magic.\n",
    "    - Relies on global variables.\n",
    "    \"\"\"\n",
    "    # Make Doppler shift\n",
    "    dx = 60. * rng.uniform() - 30.\n",
    "\n",
    "    # Make calibration offsets\n",
    "    ddx, ddy = 1. - 2. * rng.uniform(size=2)\n",
    "\n",
    "    # Make pixel grids for a tiny image section\n",
    "    xs = np.arange(Nx).astype(float) + ddx\n",
    "    ys = np.arange(Ny).astype(float) + ddy\n",
    "    xxs, yys = np.meshgrid(xs, ys)\n",
    "\n",
    "    # Make true flat by an agonizing process\n",
    "    var = 1.\n",
    "    trueflat = np.zeros_like(xxs).astype(float)\n",
    "    for x in xspots:\n",
    "        for y in yspots:\n",
    "            trueflat += gaussian_2d(xxs, yys, [x + dxdy(x) * y, trace(x) + y], var)\n",
    "    \n",
    "    # Make true LFC by a similarly agonizing process\n",
    "    specvar = 5. # pixels ** 2\n",
    "    truelfc = np.zeros_like(xxs).astype(float)\n",
    "    for x in lfcspots:\n",
    "        for y in yspots:\n",
    "            truelfc += 4. * gaussian_2d(xxs, yys, [x + dxdy(x) * y, trace(x) + y], specvar)\n",
    "\n",
    "    # Make true science image by multiplying the flat\n",
    "    foo = np.zeros_like(xxs)\n",
    "    for x, d in zip(linexs + dx, depths):\n",
    "        foo -= d * gaussian_1d(xxs - dxdy(xxs) * (yys - trace(xxs)), x, specvar)\n",
    "    truesci = trueflat * np.exp(foo)\n",
    "\n",
    "    # Multiply all three by the pixel-level flat\n",
    "    trueflat *= pixel_flat\n",
    "    truelfc *= pixel_flat\n",
    "    truesci *= pixel_flat\n",
    "\n",
    "    # Add gaussian noise to simulate shot noise\n",
    "    flat = trueflat + 0.04 * np.sqrt(trueflat) * rng.normal(size=xxs.shape)\n",
    "    lfc  = truelfc  + 0.01 * np.sqrt(truelfc)  * rng.normal(size=xxs.shape)\n",
    "    sci  = truesci  + 0.05 * np.sqrt(truesci)  * rng.normal(size=xxs.shape)\n",
    "\n",
    "    # Add (stupid) cosmic rays\n",
    "    flat += rng.uniform(size=xxs.shape) < 0.01\n",
    "    lfc  += rng.uniform(size=xxs.shape) < 0.01\n",
    "    sci  += rng.uniform(size=xxs.shape) < 0.01\n",
    "\n",
    "    return dx, flat, lfc, sci"
   ]
  },
  {
   "cell_type": "code",
   "execution_count": 11,
   "id": "YRz3Z7xtO4hl",
   "metadata": {
    "id": "YRz3Z7xtO4hl"
   },
   "outputs": [],
   "source": [
    "def make_training_data(N):\n",
    "    for n in range(N):\n",
    "        dx, flat, lfc, sci = make_flat_lfc_science()\n",
    "        if n == 0:\n",
    "            y = np.zeros(N)\n",
    "            x = np.zeros((N, ) + flat.shape + (3, ))\n",
    "        print(n, dx)\n",
    "        y[n] = dx\n",
    "        x[n] = np.concatenate((flat[:, :, None], lfc[:, :, None],\n",
    "                               sci[:, :, None]), axis=-1)\n",
    "    return x, y"
   ]
  },
  {
   "cell_type": "code",
   "execution_count": 12,
   "id": "4Htuxxa-rtye",
   "metadata": {
    "colab": {
     "base_uri": "https://localhost:8080/"
    },
    "id": "4Htuxxa-rtye",
    "outputId": "b8adb9ca-a6fc-4cfc-e27f-2cf4c590f0a7"
   },
   "outputs": [
    {
     "name": "stdout",
     "output_type": "stream",
     "text": [
      "0 8.131669175337258\n"
     ]
    }
   ],
   "source": [
    "test, _ = make_training_data(1)"
   ]
  },
  {
   "cell_type": "code",
   "execution_count": 13,
   "id": "dqP8lIt-rx8N",
   "metadata": {
    "colab": {
     "base_uri": "https://localhost:8080/",
     "height": 278
    },
    "id": "dqP8lIt-rx8N",
    "outputId": "f1ee523a-740b-47a4-ab05-77eb9fe4cf97"
   },
   "outputs": [
    {
     "data": {
      "text/plain": [
       "Text(0, 0.5, '$y$ (pix)')"
      ]
     },
     "execution_count": 13,
     "metadata": {},
     "output_type": "execute_result"
    },
    {
     "data": {
      "image/png": "[encoded data removed]",
      "text/plain": [
       "<Figure size 864x432 with 1 Axes>"
      ]
     },
     "metadata": {
      "needs_background": "light"
     },
     "output_type": "display_data"
    }
   ],
   "source": [
    "imshowkwargs = {\"origin\": \"lower\", \"interpolation\": \"nearest\"}\n",
    "plt.title(\"flat\")\n",
    "plt.imshow(test[0, :, :, 0], **imshowkwargs)\n",
    "plt.xlim(-0.5, Nx - 0.5)\n",
    "plt.xlabel(r\"$x$ (pix)\")\n",
    "plt.ylabel(r\"$y$ (pix)\")"
   ]
  },
  {
   "cell_type": "code",
   "execution_count": 14,
   "id": "iVxrBtcOubRe",
   "metadata": {
    "colab": {
     "base_uri": "https://localhost:8080/",
     "height": 278
    },
    "id": "iVxrBtcOubRe",
    "outputId": "588c11ef-16b1-4444-d1ee-519e86c91305"
   },
   "outputs": [
    {
     "data": {
      "text/plain": [
       "Text(0, 0.5, '$y$ (pix)')"
      ]
     },
     "execution_count": 14,
     "metadata": {},
     "output_type": "execute_result"
    },
    {
     "data": {
      "image/png": "[encoded data removed]",
      "text/plain": [
       "<Figure size 864x432 with 1 Axes>"
      ]
     },
     "metadata": {
      "needs_background": "light"
     },
     "output_type": "display_data"
    }
   ],
   "source": [
    "imshowkwargs = {\"origin\": \"lower\", \"interpolation\": \"nearest\"}\n",
    "plt.title(\"lfc\")\n",
    "plt.imshow(test[0, :, :, 1], **imshowkwargs)\n",
    "plt.xlim(-0.5, Nx - 0.5)\n",
    "plt.xlabel(r\"$x$ (pix)\")\n",
    "plt.ylabel(r\"$y$ (pix)\")"
   ]
  },
  {
   "cell_type": "code",
   "execution_count": 15,
   "id": "zZ3j2qIEug-H",
   "metadata": {
    "colab": {
     "base_uri": "https://localhost:8080/",
     "height": 278
    },
    "id": "zZ3j2qIEug-H",
    "outputId": "9f7d9c3a-925d-4273-93b4-8215b02bd82e"
   },
   "outputs": [
    {
     "data": {
      "text/plain": [
       "Text(0, 0.5, '$y$ (pix)')"
      ]
     },
     "execution_count": 15,
     "metadata": {},
     "output_type": "execute_result"
    },
    {
     "data": {
      "image/png": "[encoded data removed]",
      "text/plain": [
       "<Figure size 864x432 with 1 Axes>"
      ]
     },
     "metadata": {
      "needs_background": "light"
     },
     "output_type": "display_data"
    }
   ],
   "source": [
    "imshowkwargs = {\"origin\": \"lower\", \"interpolation\": \"nearest\"}\n",
    "plt.title(\"science\")\n",
    "plt.imshow(test[0, :, :, 2], **imshowkwargs)\n",
    "plt.xlim(-0.5, Nx - 0.5)\n",
    "plt.xlabel(r\"$x$ (pix)\")\n",
    "plt.ylabel(r\"$y$ (pix)\")"
   ]
  },
  {
   "cell_type": "code",
   "execution_count": 16,
   "id": "mjmqNzOZKGgl",
   "metadata": {
    "colab": {
     "base_uri": "https://localhost:8080/"
    },
    "id": "mjmqNzOZKGgl",
    "outputId": "99682029-ef53-4369-83a5-841899978fa1"
   },
   "outputs": [
    {
     "name": "stdout",
     "output_type": "stream",
     "text": [
      "0 -23.766744399783487\n",
      "1 -20.593506552291462\n",
      "2 -27.503203129130565\n",
      "3 15.355188979315194\n",
      "4 14.817210083951167\n",
      "5 26.065230164145547\n",
      "6 -18.238119077221526\n",
      "7 24.165848328548037\n",
      "8 16.738191003819892\n",
      "9 7.7544237355632575\n",
      "10 6.033253090798155\n",
      "11 16.324930434863745\n",
      "12 -19.823919752255392\n",
      "13 15.436628664612705\n",
      "14 -13.39956027193577\n",
      "15 28.37250994713485\n",
      "16 21.67806014365309\n",
      "17 -3.337657276496735\n",
      "18 -5.98977864856878\n",
      "19 -3.39858603308976\n",
      "20 0.9088785090314673\n",
      "21 -9.096442966742849\n",
      "22 28.970474789298294\n",
      "23 -28.539155068255752\n",
      "24 9.956264511878473\n",
      "25 5.636591581481035\n",
      "26 10.807356331708817\n",
      "27 4.6511959608905755\n",
      "28 2.655459064131712\n",
      "29 2.770726167425032\n",
      "30 -27.365504879958877\n",
      "31 14.830052735946083\n",
      "32 -1.674734682533071\n",
      "33 23.176731972450987\n",
      "34 16.66835044761382\n",
      "35 -1.7519258836572114\n",
      "36 11.663133926494993\n",
      "37 17.558304723828186\n",
      "38 2.67780947008265\n",
      "39 -6.611122345539023\n",
      "40 -29.138644891021194\n",
      "41 -14.786193110791562\n",
      "42 4.628224569375043\n",
      "43 -22.269616805657037\n",
      "44 20.188121274677698\n",
      "45 -2.6335254883179076\n",
      "46 12.504498119235791\n",
      "47 -28.30214850779314\n",
      "48 5.656365510046605\n",
      "49 -5.089023959340043\n",
      "50 -8.556964260111506\n",
      "51 -10.1112928272821\n",
      "52 -15.706037294464565\n",
      "53 -9.707119227861266\n",
      "54 -13.52998627416035\n",
      "55 24.222276498092768\n",
      "56 -7.78148336162171\n",
      "57 29.302722772198763\n",
      "58 8.57232032657204\n",
      "59 20.380845735838676\n",
      "60 -28.536434095452478\n",
      "61 23.587607948953035\n",
      "62 -3.9190020683221682\n",
      "63 2.883802737980673\n",
      "64 -25.250678151346946\n",
      "65 16.040719580823954\n",
      "66 -27.31051234363219\n",
      "67 19.39665751693728\n",
      "68 27.222543082799284\n",
      "69 -15.128891133302236\n",
      "70 22.224217554987035\n",
      "71 27.760910546522553\n",
      "72 28.27100396745007\n",
      "73 -11.696847914580093\n",
      "74 28.57204357161423\n",
      "75 25.345289338243525\n",
      "76 -27.419211069224456\n",
      "77 5.475289995445053\n",
      "78 17.954663489484986\n",
      "79 21.621254721662787\n",
      "80 6.70651217789564\n",
      "81 -9.386737693936556\n",
      "82 -23.4492226130213\n",
      "83 2.5587173302303086\n",
      "84 -20.478636552448283\n",
      "85 11.673992743337031\n",
      "86 -6.368686357602439\n",
      "87 -0.8231053937038553\n",
      "88 -4.8911571977156\n",
      "89 8.870365662641568\n",
      "90 -8.328248288099303\n",
      "91 25.61068044511334\n",
      "92 -4.628994095826506\n",
      "93 23.553140223170914\n",
      "94 19.629562774409088\n",
      "95 -27.75025935536226\n",
      "96 -27.301019368906523\n",
      "97 -23.158281022142898\n",
      "98 -19.61076725445632\n",
      "99 26.919478418431133\n",
      "(100, 128, 512, 3) (100,)\n"
     ]
    }
   ],
   "source": [
    "# Now make lots of training data.\n",
    "xs_train, ys_train = make_training_data(100)\n",
    "print(xs_train.shape, ys_train.shape)"
   ]
  },
  {
   "cell_type": "code",
   "execution_count": 17,
   "id": "yQu_QAdbRNx4",
   "metadata": {
    "colab": {
     "base_uri": "https://localhost:8080/"
    },
    "id": "yQu_QAdbRNx4",
    "outputId": "ad0c8ab5-fbca-4518-cb5a-754c918d6e93"
   },
   "outputs": [
    {
     "name": "stdout",
     "output_type": "stream",
     "text": [
      "0 28.428382585802346\n",
      "1 -19.530841809743766\n",
      "2 6.351973090519479\n",
      "3 -20.745037159702157\n",
      "4 27.793639167067106\n",
      "5 19.497473100921894\n",
      "6 -20.262658621277907\n",
      "7 -15.8548425737871\n",
      "8 -21.76991332146305\n",
      "9 -4.883302703198822\n",
      "10 -20.798465287257017\n",
      "11 -29.193724841428306\n",
      "12 -24.51539736838878\n",
      "13 -21.98045488076059\n",
      "14 -27.33450100089555\n",
      "15 -1.740375213192678\n",
      "16 11.272565260060624\n",
      "17 -21.67816910444529\n",
      "18 1.4278166804852468\n",
      "19 -8.267475836366717\n",
      "20 29.81590845385397\n",
      "21 -12.389635039542185\n",
      "22 -28.23607632625162\n",
      "23 -17.64833003872272\n",
      "24 1.810730850720276\n",
      "(25, 128, 512, 3) (25,)\n"
     ]
    }
   ],
   "source": [
    "xs_valid, ys_valid = make_training_data(25)\n",
    "print(xs_valid.shape, ys_valid.shape)"
   ]
  },
  {
   "cell_type": "code",
   "execution_count": 18,
   "id": "dsoI3IndRV7u",
   "metadata": {
    "colab": {
     "base_uri": "https://localhost:8080/"
    },
    "id": "dsoI3IndRV7u",
    "outputId": "718856a8-2832-4766-c1ab-e696cfda5700"
   },
   "outputs": [
    {
     "name": "stdout",
     "output_type": "stream",
     "text": [
      "0 8.241354474836328\n",
      "1 -29.570560288719353\n",
      "2 1.3160655337074765\n",
      "3 -0.22814992636025622\n",
      "4 -18.265802262293917\n",
      "5 25.250305843452708\n",
      "6 -17.63465723029943\n",
      "7 14.982524661000149\n",
      "8 5.1351401843270565\n",
      "9 -24.76624988905469\n",
      "10 -29.129482193467922\n",
      "11 13.28899989845965\n",
      "12 15.02061562749956\n",
      "13 -15.63992686726898\n",
      "14 16.669260203869477\n",
      "15 2.221279828822503\n",
      "16 17.283881103505323\n",
      "17 7.1985504022555915\n",
      "18 23.777019549972366\n",
      "19 10.195820886720142\n",
      "20 7.8140820546629755\n",
      "21 -19.69925241011094\n",
      "22 22.07680274136397\n",
      "23 -5.189354709903217\n",
      "24 -28.01638545675947\n",
      "(25, 128, 512, 3) (25,)\n"
     ]
    }
   ],
   "source": [
    "xs_test, ys_test = make_training_data(25)\n",
    "print(xs_test.shape, ys_test.shape)"
   ]
  },
  {
   "cell_type": "code",
   "execution_count": 19,
   "id": "3da75f1a",
   "metadata": {
    "id": "3da75f1a"
   },
   "outputs": [],
   "source": [
    "import pickle"
   ]
  },
  {
   "cell_type": "code",
   "execution_count": 20,
   "id": "fYXGPUzsleKq",
   "metadata": {
    "id": "fYXGPUzsleKq"
   },
   "outputs": [],
   "source": [
    "def save_data(filename,obj):\n",
    "  with open(filename, 'wb') as handle:\n",
    "    pickle.dump(obj, handle, protocol=pickle.HIGHEST_PROTOCOL)"
   ]
  },
  {
   "cell_type": "code",
   "execution_count": 21,
   "id": "kMzbOLH7lw5I",
   "metadata": {
    "id": "kMzbOLH7lw5I"
   },
   "outputs": [],
   "source": [
    "save_data('../data/xs_train.pickle',xs_train)\n",
    "save_data('../data/ys_train.pickle',ys_train)\n",
    "save_data('../data/xs_valid.pickle',xs_valid)\n",
    "save_data('../data/ys_valid.pickle',ys_valid)"
   ]
  },
  {
   "cell_type": "code",
   "execution_count": 22,
   "id": "oAFyKnyWr3T8",
   "metadata": {
    "colab": {
     "base_uri": "https://localhost:8080/"
    },
    "id": "oAFyKnyWr3T8",
    "outputId": "493f5be5-58cd-48b6-b346-7fde595780e3"
   },
   "outputs": [
    {
     "name": "stdout",
     "output_type": "stream",
     "text": [
      "['/Users/matthewdaunt/Documents/pythons/wobble_full/repos/CNN_RVs/example', '/Library/Frameworks/Python.framework/Versions/3.7/lib/python37.zip', '/Library/Frameworks/Python.framework/Versions/3.7/lib/python3.7', '/Library/Frameworks/Python.framework/Versions/3.7/lib/python3.7/lib-dynload', '', '/Users/matthewdaunt/Library/Python/3.7/lib/python/site-packages', '/Library/Frameworks/Python.framework/Versions/3.7/lib/python3.7/site-packages', '/Library/Frameworks/Python.framework/Versions/3.7/lib/python3.7/site-packages/pyFluidSynth-1.2.5-py3.7.egg', '/Users/matthewdaunt/Documents/pythons/networks/gym', '/Library/Frameworks/Python.framework/Versions/3.7/lib/python3.7/site-packages/Robinhood-1.0.1-py3.7.egg', '/Library/Frameworks/Python.framework/Versions/3.7/lib/python3.7/site-packages/six-1.11.0-py3.7.egg', '/Library/Frameworks/Python.framework/Versions/3.7/lib/python3.7/site-packages/requests-2.18.4-py3.7.egg', '/Library/Frameworks/Python.framework/Versions/3.7/lib/python3.7/site-packages/urllib3-1.22-py3.7.egg', '/Library/Frameworks/Python.framework/Versions/3.7/lib/python3.7/site-packages/idna-2.6-py3.7.egg', '/Library/Frameworks/Python.framework/Versions/3.7/lib/python3.7/site-packages/IPython/extensions', '/Users/matthewdaunt/.ipython']\n"
     ]
    }
   ],
   "source": [
    "import sys\n",
    "print(sys.path)"
   ]
  },
  {
   "cell_type": "code",
   "execution_count": 23,
   "id": "aVRXlnUNmTlE",
   "metadata": {
    "id": "aVRXlnUNmTlE"
   },
   "outputs": [],
   "source": [
    "def load_data(filename):\n",
    "  with open(filename, 'rb') as handle:\n",
    "    obj = pickle.load(handle)\n",
    "    return obj"
   ]
  },
  {
   "cell_type": "markdown",
   "id": "uC9UZX5AnFcS",
   "metadata": {
    "id": "uC9UZX5AnFcS"
   },
   "source": [
    "Comment in once data has been simulated"
   ]
  },
  {
   "cell_type": "code",
   "execution_count": 24,
   "id": "24Dqli-UmkiL",
   "metadata": {
    "id": "24Dqli-UmkiL"
   },
   "outputs": [],
   "source": [
    "# xs_train = load_data('../data/xs_train.pickle')\n",
    "# ys_train = load_data('../data/ys_train.pickle')\n",
    "# xs_valid = load_data('../data/xs_valid.pickle')\n",
    "# ys_valid = load_data('../data/ys_valid.pickle')"
   ]
  },
  {
   "cell_type": "code",
   "execution_count": null,
   "id": "BC6ld7Lnm9SM",
   "metadata": {
    "id": "BC6ld7Lnm9SM"
   },
   "outputs": [],
   "source": []
  }
 ],
 "metadata": {
  "colab": {
   "provenance": []
  },
  "kernelspec": {
   "display_name": "Python 3",
   "language": "python",
   "name": "python3"
  },
  "language_info": {
   "codemirror_mode": {
    "name": "ipython",
    "version": 3
   },
   "file_extension": ".py",
   "mimetype": "text/x-python",
   "name": "python",
   "nbconvert_exporter": "python",
   "pygments_lexer": "ipython3",
   "version": "3.7.1"
  }
 },
 "nbformat": 4,
 "nbformat_minor": 5
}
