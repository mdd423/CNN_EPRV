{
 "cells": [
  {
   "cell_type": "markdown",
   "id": "f7057c08",
   "metadata": {},
   "source": [
    "<h1>CNNs for EPRV on HARPS</h1>\n",
    "The goal here is to training a CNN using HARPS images to the outputs of the HARPS EPRV extraction pipeline to see it a large of NN can replicated more explicit modeling."
   ]
  },
  {
   "cell_type": "code",
   "execution_count": 1,
   "id": "c71f8e85",
   "metadata": {},
   "outputs": [
    {
     "name": "stderr",
     "output_type": "stream",
     "text": [
      "/ext3/miniconda3/envs/cnnenv/lib/python3.10/site-packages/torchvision/io/image.py:13: UserWarning: Failed to load image Python extension: /ext3/miniconda3/envs/cnnenv/lib/python3.10/site-packages/torchvision/image.so: undefined symbol: _ZN2at4_ops19empty_memory_format4callEN3c108ArrayRefINS2_6SymIntEEENS2_8optionalINS2_10ScalarTypeEEENS6_INS2_6LayoutEEENS6_INS2_6DeviceEEENS6_IbEENS6_INS2_12MemoryFormatEEE\n",
      "  warn(f\"Failed to load image Python extension: {e}\")\n"
     ]
    }
   ],
   "source": [
    "import torch\n",
    "import torch.nn as nn\n",
    "import torch.nn.functional as F\n",
    "from torchvision.transforms import transforms\n",
    "from torch.utils.data import DataLoader\n",
    "\n",
    "import random\n",
    "import numpy as np\n",
    "torch.manual_seed(101101)\n",
    "random.seed(101101)\n",
    "np.random.seed(101101)"
   ]
  },
  {
   "cell_type": "code",
   "execution_count": 2,
   "id": "ec896aa3",
   "metadata": {},
   "outputs": [],
   "source": [
    "import os\n",
    "# os.environ['CUDA_VISIBLE_DEVICES']"
   ]
  },
  {
   "cell_type": "code",
   "execution_count": 3,
   "id": "0866d509",
   "metadata": {},
   "outputs": [
    {
     "name": "stdout",
     "output_type": "stream",
     "text": [
      "1.11.0\n"
     ]
    }
   ],
   "source": [
    "print(torch.__version__)"
   ]
  },
  {
   "cell_type": "code",
   "execution_count": 4,
   "id": "85f4c99a",
   "metadata": {},
   "outputs": [
    {
     "name": "stdout",
     "output_type": "stream",
     "text": [
      "True\n"
     ]
    }
   ],
   "source": [
    "print(torch.cuda.is_available())"
   ]
  },
  {
   "cell_type": "code",
   "execution_count": 5,
   "id": "38213be0",
   "metadata": {},
   "outputs": [
    {
     "data": {
      "text/plain": [
       "1"
      ]
     },
     "execution_count": 5,
     "metadata": {},
     "output_type": "execute_result"
    }
   ],
   "source": [
    "torch.cuda.device_count()"
   ]
  },
  {
   "cell_type": "code",
   "execution_count": 6,
   "id": "a1748c07",
   "metadata": {},
   "outputs": [
    {
     "name": "stdout",
     "output_type": "stream",
     "text": [
      "Python 3.10.9\n"
     ]
    },
    {
     "data": {
      "text/plain": [
       "CompletedProcess(args=['python', '--version'], returncode=0)"
      ]
     },
     "execution_count": 6,
     "metadata": {},
     "output_type": "execute_result"
    }
   ],
   "source": [
    "import subprocess\n",
    "subprocess.run([\"python\", \"--version\"])"
   ]
  },
  {
   "cell_type": "code",
   "execution_count": 7,
   "id": "b96fb632",
   "metadata": {},
   "outputs": [],
   "source": [
    "import torchvision"
   ]
  },
  {
   "cell_type": "code",
   "execution_count": 8,
   "id": "a0cc7a97",
   "metadata": {},
   "outputs": [
    {
     "name": "stdout",
     "output_type": "stream",
     "text": [
      "True\n"
     ]
    }
   ],
   "source": [
    "print(torch.backends.cudnn.enabled)"
   ]
  },
  {
   "cell_type": "code",
   "execution_count": 9,
   "id": "c04063a5",
   "metadata": {},
   "outputs": [
    {
     "name": "stdout",
     "output_type": "stream",
     "text": [
      "nvcc: NVIDIA (R) Cuda compiler driver\n",
      "Copyright (c) 2005-2022 NVIDIA Corporation\n",
      "Built on Wed_Jun__8_16:49:14_PDT_2022\n",
      "Cuda compilation tools, release 11.7, V11.7.99\n",
      "Build cuda_11.7.r11.7/compiler.31442593_0\n"
     ]
    },
    {
     "data": {
      "text/plain": [
       "CompletedProcess(args=['nvcc', '--version'], returncode=0)"
      ]
     },
     "execution_count": 9,
     "metadata": {},
     "output_type": "execute_result"
    }
   ],
   "source": [
    "subprocess.run(['nvcc','--version'])"
   ]
  },
  {
   "cell_type": "code",
   "execution_count": 10,
   "id": "69e968e6",
   "metadata": {
    "scrolled": true
   },
   "outputs": [
    {
     "name": "stdout",
     "output_type": "stream",
     "text": [
      "# packages in environment at /ext3/miniconda3/envs/cnnenv:\n",
      "#\n",
      "# Name                    Version                   Build  Channel\n",
      "_libgcc_mutex             0.1                 conda_forge    conda-forge\n",
      "_openmp_mutex             4.5                  2_kmp_llvm    conda-forge\n",
      "alsa-lib                  1.2.8                h166bdaf_0    conda-forge\n",
      "anyio                     3.6.2              pyhd8ed1ab_0    conda-forge\n",
      "aom                       3.5.0                h27087fc_0    conda-forge\n",
      "argon2-cffi               21.3.0             pyhd8ed1ab_0    conda-forge\n",
      "argon2-cffi-bindings      21.2.0          py310h5764c6d_3    conda-forge\n",
      "astropy                   5.2.1           py310h0a54255_0    conda-forge\n",
      "asttokens                 2.2.1              pyhd8ed1ab_0    conda-forge\n",
      "attr                      2.5.1                h166bdaf_1    conda-forge\n",
      "attrs                     22.2.0             pyh71513ae_0    conda-forge\n",
      "backcall                  0.2.0              pyh9f0ad1d_0    conda-forge\n",
      "backports                 1.0                pyhd8ed1ab_3    conda-forge\n",
      "backports.functools_lru_cache 1.6.4              pyhd8ed1ab_0    conda-forge\n",
      "beautifulsoup4            4.11.2             pyha770c72_0    conda-forge\n",
      "blas                      1.0                         mkl  \n",
      "bleach                    6.0.0              pyhd8ed1ab_0    conda-forge\n",
      "brotli                    1.0.9                h166bdaf_8    conda-forge\n",
      "brotli-bin                1.0.9                h166bdaf_8    conda-forge\n",
      "brotlipy                  0.7.0           py310h5764c6d_1005    conda-forge\n",
      "bzip2                     1.0.8                h7f98852_4    conda-forge\n",
      "c-ares                    1.18.1               h7f98852_0    conda-forge\n",
      "ca-certificates           2022.12.7            ha878542_0    conda-forge\n",
      "cached-property           1.5.2                hd8ed1ab_1    conda-forge\n",
      "cached_property           1.5.2              pyha770c72_1    conda-forge\n",
      "cairo                     1.16.0            ha61ee94_1014    conda-forge\n",
      "certifi                   2022.12.7          pyhd8ed1ab_0    conda-forge\n",
      "cffi                      1.15.1          py310h255011f_3    conda-forge\n",
      "charset-normalizer        2.1.1              pyhd8ed1ab_0    conda-forge\n",
      "colorama                  0.4.6              pyhd8ed1ab_0    conda-forge\n",
      "comm                      0.1.2              pyhd8ed1ab_0    conda-forge\n",
      "cryptography              39.0.1          py310h34c0648_0    conda-forge\n",
      "cuda                      11.7.1                        0    nvidia\n",
      "cuda-cccl                 11.7.91                       0    nvidia\n",
      "cuda-command-line-tools   11.7.1                        0    nvidia\n",
      "cuda-compiler             11.7.1                        0    nvidia\n",
      "cuda-cudart               11.7.99                       0    nvidia\n",
      "cuda-cudart-dev           11.7.99                       0    nvidia\n",
      "cuda-cuobjdump            11.7.91                       0    nvidia\n",
      "cuda-cupti                11.7.101                      0    nvidia\n",
      "cuda-cuxxfilt             11.7.91                       0    nvidia\n",
      "cuda-demo-suite           12.0.140                      0    nvidia\n",
      "cuda-documentation        12.0.140                      0    nvidia\n",
      "cuda-driver-dev           11.7.99                       0    nvidia\n",
      "cuda-gdb                  12.0.140                      0    nvidia\n",
      "cuda-libraries            11.7.1                        0    nvidia\n",
      "cuda-libraries-dev        11.7.1                        0    nvidia\n",
      "cuda-memcheck             11.8.86                       0    nvidia\n",
      "cuda-nsight               12.0.140                      0    nvidia\n",
      "cuda-nsight-compute       12.0.1                        0    nvidia\n",
      "cuda-nvcc                 11.7.99                       0    nvidia\n",
      "cuda-nvdisasm             12.0.140                      0    nvidia\n",
      "cuda-nvml-dev             11.7.91                       0    nvidia\n",
      "cuda-nvprof               12.0.146                      0    nvidia\n",
      "cuda-nvprune              11.7.91                       0    nvidia\n",
      "cuda-nvrtc                11.7.99                       0    nvidia\n",
      "cuda-nvrtc-dev            11.7.99                       0    nvidia\n",
      "cuda-nvtx                 11.7.91                       0    nvidia\n",
      "cuda-nvvp                 12.0.146                      0    nvidia\n",
      "cuda-runtime              11.7.1                        0    nvidia\n",
      "cuda-sanitizer-api        12.0.140                      0    nvidia\n",
      "cuda-toolkit              11.7.1                        0    nvidia\n",
      "cuda-tools                11.7.1                        0    nvidia\n",
      "cuda-visual-tools         11.7.1                        0    nvidia\n",
      "cudatoolkit               11.7.0              hd8887f6_10    nvidia\n",
      "cudnn                     8.4.1.50             hed8a83a_0    conda-forge\n",
      "cycler                    0.11.0             pyhd8ed1ab_0    conda-forge\n",
      "dbus                      1.13.6               h5008d03_3    conda-forge\n",
      "debugpy                   1.6.6           py310heca2aa9_0    conda-forge\n",
      "decorator                 5.1.1              pyhd8ed1ab_0    conda-forge\n",
      "defusedxml                0.7.1              pyhd8ed1ab_0    conda-forge\n",
      "entrypoints               0.4                pyhd8ed1ab_0    conda-forge\n",
      "executing                 1.2.0              pyhd8ed1ab_0    conda-forge\n",
      "expat                     2.5.0                h27087fc_0    conda-forge\n",
      "ffmpeg                    5.1.2           gpl_h8dda1f0_106    conda-forge\n",
      "ffmpeg-python             0.2.0                      py_0    conda-forge\n",
      "fftw                      3.3.10          nompi_hf0379b8_106    conda-forge\n",
      "flit-core                 3.8.0              pyhd8ed1ab_0    conda-forge\n",
      "font-ttf-dejavu-sans-mono 2.37                 hab24e00_0    conda-forge\n",
      "font-ttf-inconsolata      3.000                h77eed37_0    conda-forge\n",
      "font-ttf-source-code-pro  2.038                h77eed37_0    conda-forge\n",
      "font-ttf-ubuntu           0.83                 hab24e00_0    conda-forge\n",
      "fontconfig                2.14.2               h14ed4e7_0    conda-forge\n",
      "fonts-conda-ecosystem     1                             0    conda-forge\n",
      "fonts-conda-forge         1                             0    conda-forge\n",
      "fonttools                 4.38.0          py310h5764c6d_1    conda-forge\n",
      "freetype                  2.12.1               hca18f0e_1    conda-forge\n",
      "future                    0.18.3             pyhd8ed1ab_0    conda-forge\n",
      "gds-tools                 1.5.1.14                      0    nvidia\n",
      "gettext                   0.21.1               h27087fc_0    conda-forge\n",
      "glib                      2.74.1               h6239696_1    conda-forge\n",
      "glib-tools                2.74.1               h6239696_1    conda-forge\n",
      "gmp                       6.2.1                h58526e2_0    conda-forge\n",
      "gnutls                    3.7.8                hf3e180e_0    conda-forge\n",
      "graphite2                 1.3.13            h58526e2_1001    conda-forge\n",
      "gst-plugins-base          1.22.0               h4243ec0_0    conda-forge\n",
      "gstreamer                 1.22.0               h25f0c4b_0    conda-forge\n",
      "gstreamer-orc             0.4.33               h166bdaf_0    conda-forge\n",
      "h5py                      3.8.0           nompi_py310ha66b2ad_101    conda-forge\n",
      "harfbuzz                  6.0.0                h8e241bc_0    conda-forge\n",
      "hdf5                      1.14.0          nompi_hb72d44e_102    conda-forge\n",
      "icu                       70.1                 h27087fc_0    conda-forge\n",
      "idna                      3.4                pyhd8ed1ab_0    conda-forge\n",
      "importlib-metadata        6.0.0              pyha770c72_0    conda-forge\n",
      "importlib_metadata        6.0.0                hd8ed1ab_0    conda-forge\n",
      "importlib_resources       5.12.0             pyhd8ed1ab_0    conda-forge\n",
      "intel-openmp              2023.0.0         h9e868ea_25371  \n",
      "ipykernel                 6.21.2             pyh210e3f2_0    conda-forge\n",
      "ipython                   8.10.0             pyh41d4057_0    conda-forge\n",
      "ipython_genutils          0.2.0                      py_1    conda-forge\n",
      "ipywidgets                8.0.4              pyhd8ed1ab_0    conda-forge\n",
      "jack                      1.9.22               h11f4161_0    conda-forge\n",
      "jedi                      0.18.2             pyhd8ed1ab_0    conda-forge\n",
      "jinja2                    3.1.2              pyhd8ed1ab_1    conda-forge\n",
      "jpeg                      9e                   h0b41bf4_3    conda-forge\n",
      "jsonschema                4.17.3             pyhd8ed1ab_0    conda-forge\n",
      "jupyter                   1.0.0           py310hff52083_8    conda-forge\n",
      "jupyter_client            8.0.3              pyhd8ed1ab_0    conda-forge\n",
      "jupyter_console           6.6.1              pyhd8ed1ab_0    conda-forge\n",
      "jupyter_core              5.2.0           py310hff52083_0    conda-forge\n",
      "jupyter_events            0.6.3              pyhd8ed1ab_0    conda-forge\n",
      "jupyter_server            2.3.0              pyhd8ed1ab_0    conda-forge\n",
      "jupyter_server_terminals  0.4.4              pyhd8ed1ab_1    conda-forge\n",
      "jupyterlab_pygments       0.2.2              pyhd8ed1ab_0    conda-forge\n",
      "jupyterlab_widgets        3.0.5              pyhd8ed1ab_0    conda-forge\n",
      "keyutils                  1.6.1                h166bdaf_0    conda-forge\n",
      "kiwisolver                1.4.4           py310hbf28c38_1    conda-forge\n",
      "krb5                      1.20.1               h81ceb04_0    conda-forge\n",
      "lame                      3.100             h166bdaf_1003    conda-forge\n",
      "lcms2                     2.14                 hfd0df8a_1    conda-forge\n",
      "ld_impl_linux-64          2.40                 h41732ed_0    conda-forge\n",
      "lerc                      4.0.0                h27087fc_0    conda-forge\n",
      "libaec                    1.0.6                hcb278e6_1    conda-forge\n",
      "libblas                   3.9.0            16_linux64_mkl    conda-forge\n",
      "libbrotlicommon           1.0.9                h166bdaf_8    conda-forge\n",
      "libbrotlidec              1.0.9                h166bdaf_8    conda-forge\n",
      "libbrotlienc              1.0.9                h166bdaf_8    conda-forge\n",
      "libcap                    2.66                 ha37c62d_0    conda-forge\n",
      "libcblas                  3.9.0            16_linux64_mkl    conda-forge\n",
      "libclang                  15.0.7          default_had23c3d_1    conda-forge\n",
      "libclang13                15.0.7          default_h3e3d535_1    conda-forge\n",
      "libcublas                 11.10.3.66                    0    nvidia\n",
      "libcublas-dev             11.10.3.66                    0    nvidia\n",
      "libcufft                  10.7.2.124           h4fbf590_0    nvidia\n",
      "libcufft-dev              10.7.2.124           h98a8f43_0    nvidia\n",
      "libcufile                 1.5.1.14                      0    nvidia\n",
      "libcufile-dev             1.5.1.14                      0    nvidia\n",
      "libcups                   2.3.3                h36d4200_3    conda-forge\n",
      "libcurand                 10.3.1.124                    0    nvidia\n",
      "libcurand-dev             10.3.1.124                    0    nvidia\n",
      "libcurl                   7.88.1               hdc1c0ab_0    conda-forge\n",
      "libcusolver               11.4.0.1                      0    nvidia\n",
      "libcusolver-dev           11.4.0.1                      0    nvidia\n",
      "libcusparse               11.7.4.91                     0    nvidia\n",
      "libcusparse-dev           11.7.4.91                     0    nvidia\n",
      "libdb                     6.2.32               h9c3ff4c_0    conda-forge\n",
      "libdeflate                1.17                 h0b41bf4_0    conda-forge\n",
      "libdrm                    2.4.114              h166bdaf_0    conda-forge\n",
      "libedit                   3.1.20191231         he28a2e2_2    conda-forge\n",
      "libev                     4.33                 h516909a_1    conda-forge\n",
      "libevent                  2.1.10               h28343ad_4    conda-forge\n",
      "libffi                    3.4.2                h7f98852_5    conda-forge\n",
      "libflac                   1.4.2                h27087fc_0    conda-forge\n",
      "libgcc-ng                 12.2.0              h65d4601_19    conda-forge\n",
      "libgcrypt                 1.10.1               h166bdaf_0    conda-forge\n",
      "libgfortran-ng            12.2.0              h69a702a_19    conda-forge\n",
      "libgfortran5              12.2.0              h337968e_19    conda-forge\n",
      "libglib                   2.74.1               h606061b_1    conda-forge\n",
      "libgomp                   12.2.0              h65d4601_19    conda-forge\n",
      "libgpg-error              1.46                 h620e276_0    conda-forge\n",
      "libhwloc                  2.9.0                hd6dc26d_0    conda-forge\n",
      "libiconv                  1.17                 h166bdaf_0    conda-forge\n",
      "libidn2                   2.3.4                h166bdaf_0    conda-forge\n",
      "liblapack                 3.9.0            16_linux64_mkl    conda-forge\n",
      "libllvm15                 15.0.7               hadd5161_0    conda-forge\n",
      "libnghttp2                1.51.0               hff17c54_0    conda-forge\n",
      "libnpp                    11.7.4.75                     0    nvidia\n",
      "libnpp-dev                11.7.4.75                     0    nvidia\n",
      "libnsl                    2.0.0                h7f98852_0    conda-forge\n",
      "libnvjpeg                 11.8.0.2                      0    nvidia\n",
      "libnvjpeg-dev             11.8.0.2                      0    nvidia\n",
      "libogg                    1.3.4                h7f98852_1    conda-forge\n",
      "libopenblas               0.3.21          pthreads_h78a6416_3    conda-forge\n",
      "libopus                   1.3.1                h7f98852_1    conda-forge\n",
      "libpciaccess              0.17                 h166bdaf_0    conda-forge\n",
      "libpng                    1.6.39               h753d276_0    conda-forge\n",
      "libpq                     15.2                 hb675445_0    conda-forge\n",
      "libprotobuf               3.20.2               h6239696_0    conda-forge\n",
      "libsndfile                1.2.0                hb75c966_0    conda-forge\n",
      "libsodium                 1.0.18               h36c2ea0_1    conda-forge\n",
      "libsqlite                 3.40.0               h753d276_0    conda-forge\n",
      "libssh2                   1.10.0               hf14f497_3    conda-forge\n",
      "libstdcxx-ng              12.2.0              h46fd767_19    conda-forge\n",
      "libsystemd0               252                  h2a991cd_0    conda-forge\n",
      "libtasn1                  4.19.0               h166bdaf_0    conda-forge\n",
      "libtiff                   4.5.0                h6adf6a1_2    conda-forge\n",
      "libtool                   2.4.7                h27087fc_0    conda-forge\n",
      "libudev1                  253                  h0b41bf4_0    conda-forge\n",
      "libunistring              0.9.10               h7f98852_0    conda-forge\n",
      "libuuid                   2.32.1            h7f98852_1000    conda-forge\n",
      "libva                     2.17.0               h0b41bf4_0    conda-forge\n",
      "libvorbis                 1.3.7                h9c3ff4c_0    conda-forge\n",
      "libvpx                    1.11.0               h9c3ff4c_3    conda-forge\n",
      "libwebp-base              1.2.4                h166bdaf_0    conda-forge\n",
      "libxcb                    1.13              h7f98852_1004    conda-forge\n",
      "libxkbcommon              1.5.0                h79f4944_0    conda-forge\n",
      "libxml2                   2.10.3               h7463322_0    conda-forge\n",
      "libzlib                   1.2.13               h166bdaf_4    conda-forge\n",
      "llvm-openmp               15.0.7               h0cdce71_0    conda-forge\n",
      "lz4-c                     1.9.4                hcb278e6_0    conda-forge\n",
      "magma                     2.5.4                hc72dce7_4    conda-forge\n",
      "markupsafe                2.1.2           py310h1fa729e_0    conda-forge\n",
      "matplotlib                3.5.3           py310hff52083_2    conda-forge\n",
      "matplotlib-base           3.5.3           py310h8d5ebf3_2    conda-forge\n",
      "matplotlib-inline         0.1.6              pyhd8ed1ab_0    conda-forge\n",
      "mistune                   2.0.5              pyhd8ed1ab_0    conda-forge\n",
      "mkl                       2022.2.1         h84fe81f_16997    conda-forge\n",
      "mpg123                    1.31.2               hcb278e6_0    conda-forge\n",
      "munkres                   1.1.4              pyh9f0ad1d_0    conda-forge\n",
      "mysql-common              8.0.32               ha901b37_0    conda-forge\n",
      "mysql-libs                8.0.32               hd7da12d_0    conda-forge\n",
      "nbclassic                 0.5.2              pyhd8ed1ab_0    conda-forge\n",
      "nbclient                  0.7.2              pyhd8ed1ab_0    conda-forge\n",
      "nbconvert                 7.2.9              pyhd8ed1ab_0    conda-forge\n",
      "nbconvert-core            7.2.9              pyhd8ed1ab_0    conda-forge\n",
      "nbconvert-pandoc          7.2.9              pyhd8ed1ab_0    conda-forge\n",
      "nbformat                  5.7.3              pyhd8ed1ab_0    conda-forge\n",
      "nccl                      2.14.3.1             h0800d71_0    conda-forge\n",
      "ncurses                   6.3                  h27087fc_1    conda-forge\n",
      "nest-asyncio              1.5.6              pyhd8ed1ab_0    conda-forge\n",
      "nettle                    3.8.1                hc379101_1    conda-forge\n",
      "ninja                     1.11.1               h924138e_0    conda-forge\n",
      "notebook                  6.5.2              pyha770c72_1    conda-forge\n",
      "notebook-shim             0.2.2              pyhd8ed1ab_0    conda-forge\n",
      "nsight-compute            2022.4.1.6                    0    nvidia\n",
      "nspr                      4.35                 h27087fc_0    conda-forge\n",
      "nss                       3.88                 he45b914_0    conda-forge\n",
      "numpy                     1.24.2          py310h8deb116_0    conda-forge\n",
      "openh264                  2.3.1                hcb278e6_2    conda-forge\n",
      "openjpeg                  2.5.0                hfec8fc6_2    conda-forge\n",
      "openssl                   3.0.8                h0b41bf4_0    conda-forge\n",
      "p11-kit                   0.24.1               hc5aa10d_0    conda-forge\n",
      "packaging                 23.0               pyhd8ed1ab_0    conda-forge\n",
      "pandoc                    2.19.2               h32600fe_1    conda-forge\n",
      "pandocfilters             1.5.0              pyhd8ed1ab_0    conda-forge\n",
      "parso                     0.8.3              pyhd8ed1ab_0    conda-forge\n",
      "pcre2                     10.40                hc3806b6_0    conda-forge\n",
      "pexpect                   4.8.0              pyh1a96a4e_2    conda-forge\n",
      "pickleshare               0.7.5                   py_1003    conda-forge\n",
      "pillow                    9.4.0           py310h023d228_1    conda-forge\n",
      "pip                       23.0.1             pyhd8ed1ab_0    conda-forge\n",
      "pixman                    0.40.0               h36c2ea0_0    conda-forge\n",
      "pkgutil-resolve-name      1.3.10             pyhd8ed1ab_0    conda-forge\n",
      "platformdirs              3.0.0              pyhd8ed1ab_0    conda-forge\n",
      "ply                       3.11                       py_1    conda-forge\n",
      "prometheus_client         0.16.0             pyhd8ed1ab_0    conda-forge\n",
      "prompt-toolkit            3.0.36             pyha770c72_0    conda-forge\n",
      "prompt_toolkit            3.0.36               hd8ed1ab_0    conda-forge\n",
      "psutil                    5.9.4           py310h5764c6d_0    conda-forge\n",
      "pthread-stubs             0.4               h36c2ea0_1001    conda-forge\n",
      "ptyprocess                0.7.0              pyhd3deb0d_0    conda-forge\n",
      "pulseaudio                16.1                 ha8d29e2_1    conda-forge\n",
      "pure_eval                 0.2.2              pyhd8ed1ab_0    conda-forge\n",
      "pycparser                 2.21               pyhd8ed1ab_0    conda-forge\n",
      "pyerfa                    2.0.0.1         py310hde88566_3    conda-forge\n",
      "pygments                  2.14.0             pyhd8ed1ab_0    conda-forge\n",
      "pyopenssl                 23.0.0             pyhd8ed1ab_0    conda-forge\n",
      "pyparsing                 3.0.9              pyhd8ed1ab_0    conda-forge\n",
      "pyqt                      5.15.7          py310hab646b1_3    conda-forge\n",
      "pyqt5-sip                 12.11.0         py310heca2aa9_3    conda-forge\n",
      "pyrsistent                0.19.3          py310h1fa729e_0    conda-forge\n",
      "pysocks                   1.7.1              pyha2e5f31_6    conda-forge\n",
      "python                    3.10.9          he550d4f_0_cpython    conda-forge\n",
      "python-dateutil           2.8.2              pyhd8ed1ab_0    conda-forge\n",
      "python-fastjsonschema     2.16.3             pyhd8ed1ab_0    conda-forge\n",
      "python-json-logger        2.0.7              pyhd8ed1ab_0    conda-forge\n",
      "python_abi                3.10                    3_cp310    conda-forge\n",
      "pytorch                   1.11.0          cuda112py310h51fe464_1    conda-forge\n",
      "pytorch-cuda              11.7                 h67b0de4_1    pytorch\n",
      "pytorch-mutex             1.0                        cuda    pytorch\n",
      "pyyaml                    6.0             py310h5764c6d_5    conda-forge\n",
      "pyzmq                     25.0.0          py310h059b190_0    conda-forge\n",
      "qt-main                   5.15.8               h5d23da1_6    conda-forge\n",
      "qtconsole                 5.4.0              pyhd8ed1ab_0    conda-forge\n",
      "qtconsole-base            5.4.0              pyha770c72_0    conda-forge\n",
      "qtpy                      2.3.0              pyhd8ed1ab_0    conda-forge\n",
      "readline                  8.1.2                h0f457ee_0    conda-forge\n",
      "requests                  2.28.2             pyhd8ed1ab_0    conda-forge\n",
      "rfc3339-validator         0.1.4              pyhd8ed1ab_0    conda-forge\n",
      "rfc3986-validator         0.1.1              pyh9f0ad1d_0    conda-forge\n",
      "send2trash                1.8.0              pyhd8ed1ab_0    conda-forge\n",
      "setuptools                67.4.0             pyhd8ed1ab_0    conda-forge\n",
      "sip                       6.7.7           py310heca2aa9_0    conda-forge\n",
      "six                       1.16.0             pyh6c4a22f_0    conda-forge\n",
      "sleef                     3.5.1                h9b69904_2    conda-forge\n",
      "sniffio                   1.3.0              pyhd8ed1ab_0    conda-forge\n",
      "soupsieve                 2.3.2.post1        pyhd8ed1ab_0    conda-forge\n",
      "stack_data                0.6.2              pyhd8ed1ab_0    conda-forge\n",
      "svt-av1                   1.4.1                hcb278e6_0    conda-forge\n",
      "tbb                       2021.8.0             hf52228f_0    conda-forge\n",
      "terminado                 0.17.1             pyh41d4057_0    conda-forge\n",
      "tinycss2                  1.2.1              pyhd8ed1ab_0    conda-forge\n",
      "tk                        8.6.12               h27826a3_0    conda-forge\n",
      "toml                      0.10.2             pyhd8ed1ab_0    conda-forge\n",
      "torchvision               0.14.1          cuda112py310h7928a00_0    conda-forge\n",
      "tornado                   6.2             py310h5764c6d_1    conda-forge\n",
      "tqdm                      4.64.1             pyhd8ed1ab_0    conda-forge\n",
      "traitlets                 5.9.0              pyhd8ed1ab_0    conda-forge\n",
      "typing-extensions         4.4.0                hd8ed1ab_0    conda-forge\n",
      "typing_extensions         4.4.0              pyha770c72_0    conda-forge\n",
      "tzdata                    2022g                h191b570_0    conda-forge\n",
      "unicodedata2              15.0.0          py310h5764c6d_0    conda-forge\n",
      "urllib3                   1.26.14            pyhd8ed1ab_0    conda-forge\n",
      "wcwidth                   0.2.6              pyhd8ed1ab_0    conda-forge\n",
      "webencodings              0.5.1                      py_1    conda-forge\n",
      "websocket-client          1.5.1              pyhd8ed1ab_0    conda-forge\n",
      "wheel                     0.38.4             pyhd8ed1ab_0    conda-forge\n",
      "widgetsnbextension        4.0.5              pyhd8ed1ab_0    conda-forge\n",
      "x264                      1!164.3095           h166bdaf_2    conda-forge\n",
      "x265                      3.5                  h924138e_3    conda-forge\n",
      "xcb-util                  0.4.0                h166bdaf_0    conda-forge\n",
      "xcb-util-image            0.4.0                h166bdaf_0    conda-forge\n",
      "xcb-util-keysyms          0.4.0                h166bdaf_0    conda-forge\n",
      "xcb-util-renderutil       0.3.9                h166bdaf_0    conda-forge\n",
      "xcb-util-wm               0.4.1                h166bdaf_0    conda-forge\n",
      "xorg-fixesproto           5.0               h7f98852_1002    conda-forge\n",
      "xorg-kbproto              1.0.7             h7f98852_1002    conda-forge\n",
      "xorg-libice               1.0.10               h7f98852_0    conda-forge\n",
      "xorg-libsm                1.2.3             hd9c2040_1000    conda-forge\n",
      "xorg-libx11               1.7.2                h7f98852_0    conda-forge\n",
      "xorg-libxau               1.0.9                h7f98852_0    conda-forge\n",
      "xorg-libxdmcp             1.1.3                h7f98852_0    conda-forge\n",
      "xorg-libxext              1.3.4                h0b41bf4_2    conda-forge\n",
      "xorg-libxfixes            5.0.3             h7f98852_1004    conda-forge\n",
      "xorg-libxrender           0.9.10            h7f98852_1003    conda-forge\n",
      "xorg-renderproto          0.11.1            h7f98852_1002    conda-forge\n",
      "xorg-xextproto            7.3.0             h0b41bf4_1003    conda-forge\n",
      "xorg-xproto               7.0.31            h7f98852_1007    conda-forge\n",
      "xz                        5.2.6                h166bdaf_0    conda-forge\n",
      "yaml                      0.2.5                h7f98852_2    conda-forge\n",
      "zeromq                    4.3.4                h9c3ff4c_1    conda-forge\n",
      "zipp                      3.15.0             pyhd8ed1ab_0    conda-forge\n",
      "zlib                      1.2.13               h166bdaf_4    conda-forge\n",
      "zstd                      1.5.2                h3eb15da_6    conda-forge\n"
     ]
    },
    {
     "data": {
      "text/plain": [
       "CompletedProcess(args=['conda', 'list'], returncode=0)"
      ]
     },
     "execution_count": 10,
     "metadata": {},
     "output_type": "execute_result"
    }
   ],
   "source": [
    "subprocess.run(['conda','list'])"
   ]
  },
  {
   "cell_type": "markdown",
   "id": "fcf1909b",
   "metadata": {},
   "source": [
    "<h2>Model definition</h2>"
   ]
  },
  {
   "cell_type": "markdown",
   "id": "d64996c4",
   "metadata": {},
   "source": [
    "Higher stride at higher layers,"
   ]
  },
  {
   "cell_type": "code",
   "execution_count": 11,
   "id": "332ae65d",
   "metadata": {},
   "outputs": [],
   "source": [
    "class DownSizeNet(nn.Module):\n",
    "    def __init__(self, in_size, out_size, normalize=True,stride=1, padding=1, leaky_slope=0.2):\n",
    "        super(DownSizeNet, self).__init__()\n",
    "        layers = [nn.Conv2d(in_size, out_size, 3, stride=stride, padding=padding, bias=False).double()]\n",
    "        if normalize:\n",
    "            layers.append(nn.BatchNorm2d(out_size, 0.8).double())\n",
    "        layers.append(nn.LeakyReLU(leaky_slope).double())\n",
    "        self.model = nn.Sequential(*layers)\n",
    "\n",
    "    def forward(self, x):\n",
    "        return self.model(x)\n",
    "\n",
    "    \n",
    "class RV_Model(nn.Module):\n",
    "    def __init__(self):\n",
    "        super(RV_Model, self).__init__()\n",
    "        self.down1 = DownSizeNet(3,    64,normalize=False,stride=1)\n",
    "        self.down2 = DownSizeNet(64,  128,stride=1,padding=0)\n",
    "        self.down3 = DownSizeNet(128, 256,stride=2,padding=0)\n",
    "        self.down4 = DownSizeNet(256, 256,stride=2,padding=0)\n",
    "        self.down5 = DownSizeNet(256, 256,stride=2)\n",
    "        self.down6 = DownSizeNet(256, 256,stride=2)\n",
    "        \n",
    "        self.dense1 = nn.Sequential(nn.Linear(65536,256), nn.ReLU()).double()\n",
    "        self.dense2 = nn.Sequential(nn.Linear(256,256), nn.ReLU()).double()\n",
    "        \n",
    "        self.final = nn.Linear(256,1).double()\n",
    "        \n",
    "        \n",
    "    def forward(self, x):\n",
    "        # Propogate noise through fc layer and reshape to img shape\n",
    "        d1 = self.down1(x)\n",
    "        d2 = self.down2(d1)\n",
    "        d3 = self.down3(d2)\n",
    "        d4 = self.down4(d3)\n",
    "        d5 = self.down5(d4)\n",
    "        d6 = self.down6(d5)\n",
    "#         print(d6.shape)\n",
    "#         print(d4.shape)\n",
    "        d6 = torch.flatten(d6,1)\n",
    "#         print(d6.shape)\n",
    "#         print(d6.shape)\n",
    "        d7 = self.dense1(d6)\n",
    "        d8 = self.dense2(d7)\n",
    "        \n",
    "        return self.final(d8)"
   ]
  },
  {
   "cell_type": "code",
   "execution_count": 12,
   "id": "020d3e91",
   "metadata": {},
   "outputs": [],
   "source": [
    "from torch.utils.data import Dataset\n",
    "import glob"
   ]
  },
  {
   "cell_type": "code",
   "execution_count": 13,
   "id": "692c9f5f",
   "metadata": {},
   "outputs": [],
   "source": [
    "from astropy.io import fits"
   ]
  },
  {
   "cell_type": "markdown",
   "id": "5e409343",
   "metadata": {},
   "source": [
    "<h2>Dataset importing</h2>\n",
    "The question here is how is the data organized in the directory and how can it be imported with the target RV. \n",
    "\n",
    "Not the OG data but after the data is saved from the pre processing step."
   ]
  },
  {
   "cell_type": "code",
   "execution_count": 14,
   "id": "987c8771",
   "metadata": {},
   "outputs": [],
   "source": [
    "import pickle"
   ]
  },
  {
   "cell_type": "code",
   "execution_count": 15,
   "id": "3f9d6034",
   "metadata": {},
   "outputs": [],
   "source": [
    "import numpy as np\n",
    "import h5py as h5"
   ]
  },
  {
   "cell_type": "markdown",
   "id": "a7f017e7",
   "metadata": {},
   "source": [
    "256 by 17 with 16 overlap should be the best size cropping. shit shit shit\n",
    "0-256 240-496 480-736 720-976 \n",
    "what is wrong with me im dumb\n",
    "so dumb dumb dumb"
   ]
  },
  {
   "cell_type": "code",
   "execution_count": 16,
   "id": "a6c589ca",
   "metadata": {},
   "outputs": [],
   "source": [
    "def crop_again(img):\n",
    "    size = 96\n",
    "    n    = 6\n",
    "    tot  = img.shape[-1]\n",
    "    diff = int(((size*n) - tot)/(n-1))\n",
    "#     print(diff)\n",
    "    split_img = np.empty((0,3,size,size))\n",
    "    for i in range(n):\n",
    "        for j in range(n):\n",
    "            temp = img[...,(j*size - j*diff):((j+1)*size - j*diff),(i*size - i*diff):((i+1)*size - i*diff)]\n",
    "#         print(temp.shape)\n",
    "            split_img = np.append(split_img,temp[None,...],axis=0)\n",
    "    return split_img"
   ]
  },
  {
   "cell_type": "code",
   "execution_count": 17,
   "id": "4eae1dae",
   "metadata": {},
   "outputs": [],
   "source": [
    "test = np.ones((3,526,526))\n",
    "out = crop_again(test)"
   ]
  },
  {
   "cell_type": "code",
   "execution_count": 18,
   "id": "050b6a07",
   "metadata": {},
   "outputs": [
    {
     "data": {
      "text/plain": [
       "(36, 3, 96, 96)"
      ]
     },
     "execution_count": 18,
     "metadata": {},
     "output_type": "execute_result"
    }
   ],
   "source": [
    "out.shape"
   ]
  },
  {
   "cell_type": "markdown",
   "id": "c5c118d7",
   "metadata": {},
   "source": [
    "different array for"
   ]
  },
  {
   "cell_type": "code",
   "execution_count": 19,
   "id": "731eaa8e",
   "metadata": {},
   "outputs": [],
   "source": [
    "def h5_to_array(ds):\n",
    "    rvs_stack = []\n",
    "    \n",
    "    img_stack = np.empty((0,3,526,526))\n",
    "    for visit_name,vist_info in ds['visits'].items():\n",
    "        for hdu_num in ds['images'][visit_name].keys():\n",
    "            img   = np.array(ds['images'][visit_name][hdu_num])\n",
    "            if np.sum(img.shape) != 526*2:\n",
    "                pass\n",
    "#                 print(np.sum(img.shape))\n",
    "            if np.sum(img.shape) == (526*2):\n",
    "                rvs_stack += [np.double(vist_info.attrs['ESO DRS CCF RVC'])]\n",
    "                all_flats = np.empty([0,526,526])\n",
    "                for key in vist_info.attrs.keys():\n",
    "                    if vist_info.attrs[key] == 'FLAT':\n",
    "                        temp = np.array(ds['images'][key][hdu_num])[None,...]\n",
    "                        all_flats = np.append(all_flats, temp,axis=0)\n",
    "                    if vist_info.attrs[key] == 'THAR_THAR':\n",
    "                        cali = np.array(ds['images'][key][hdu_num])\n",
    "#                 temp = crop_again(np.stack((img,np.median(all_flats,axis=0),cali)))\n",
    "                temp = np.stack((img,np.median(all_flats,axis=0),cali))[None,...]\n",
    "#                 print(temp.shape)\n",
    "                img_stack = np.append(img_stack,temp,axis=0)\n",
    "    return img_stack, np.array(rvs_stack)"
   ]
  },
  {
   "cell_type": "code",
   "execution_count": 20,
   "id": "10cd8e46",
   "metadata": {},
   "outputs": [],
   "source": [
    "import pickle\n",
    "def save(filename,model):\n",
    "    with open(filename, 'wb') as output:  # Overwrites any existing file.\n",
    "        pickle.dump(model, output, pickle.HIGHEST_PROTOCOL)\n",
    "\n",
    "def load(filename):\n",
    "    with open(filename, 'rb') as input:  # Overwrites any existing file.\n",
    "        model = pickle.load(input)\n",
    "        return model"
   ]
  },
  {
   "cell_type": "code",
   "execution_count": 21,
   "id": "419ba5d4",
   "metadata": {},
   "outputs": [],
   "source": [
    "import os.path as path"
   ]
  },
  {
   "cell_type": "code",
   "execution_count": 22,
   "id": "dbe6161a",
   "metadata": {},
   "outputs": [],
   "source": [
    "files1 = glob.glob('/scratch/mdd423/CNN_EPRV/data/peg51_256/*.h5')"
   ]
  },
  {
   "cell_type": "markdown",
   "id": "7c32d76a",
   "metadata": {},
   "source": [
    "crop median and sift through h5s here. then pickle as nd arrays"
   ]
  },
  {
   "cell_type": "code",
   "execution_count": 23,
   "id": "1cda3267",
   "metadata": {},
   "outputs": [],
   "source": [
    "filename             = files1[0]\n",
    "# ds                   = h5.File(filename,'r')\n",
    "# img_stack, rvs_stack = h5_to_array(ds)"
   ]
  },
  {
   "cell_type": "code",
   "execution_count": 24,
   "id": "505bb991",
   "metadata": {},
   "outputs": [],
   "source": [
    "dir_name, tailname = path.split(filename)\n",
    "tailname = tailname[:-3]\n",
    "imgname = path.join(dir_name, tailname + '_img.nda')\n",
    "rvsname = path.join(dir_name, tailname + '_rvs.nda')\n",
    "bcsname = path.join(dir_name, tailname + '_bcs.nda')\n",
    "timname = path.join(dir_name, tailname + '_tim.nda')\n",
    "# print(imgname,rvsname)\n",
    "# save(imgname,img_stack)\n",
    "# save(rvsname,rvs_stack)\n",
    "# save(bcsname,bcs_stack)\n",
    "# save(timname,tim_stack)\n",
    "img_stack = load(imgname)\n",
    "rvs_stack = load(rvsname)\n",
    "bcs_stack = load(bcsname)\n",
    "tim_stack = load(timname)"
   ]
  },
  {
   "cell_type": "code",
   "execution_count": 25,
   "id": "5150a853",
   "metadata": {},
   "outputs": [],
   "source": [
    "class ND_Dataset(Dataset):\n",
    "    def __init__(self, imgs,rvs):\n",
    "        self.img_stack = imgs\n",
    "        self.rvs_stack = rvs\n",
    "        self.type = torch.Tensor\n",
    "\n",
    "    def __getitem__(self, index):\n",
    "        \n",
    "        return {'img': self.type(self.img_stack[index,...]).double(), 'rvs': self.rvs_stack[index]}\n",
    "    \n",
    "    \n",
    "    def __len__(self):\n",
    "        return len(self.rvs_stack)"
   ]
  },
  {
   "cell_type": "code",
   "execution_count": 26,
   "id": "23f6317f",
   "metadata": {},
   "outputs": [],
   "source": [
    "class Multi_H5_Dataset(Dataset):\n",
    "    def __init__(self, h5_files):\n",
    "        self.h5_files = h5_files\n",
    "        self.type = torch.Tensor\n",
    "        self.img_stack = np.empty((0,3,526,526))\n",
    "        self.rvs_stack = np.empty((0))\n",
    "        for file in h5_files:\n",
    "            ds = h5.File(file,'r')\n",
    "            img_stack, rvs_stack = h5_to_array(ds)\n",
    "            self.img_stack = np.append(self.img_stack,img_stack,axis=0)\n",
    "            self.rvs_stack = np.append(self.rvs_stack,rvs_stack,axis=0)\n",
    "#         print(self.length,len(self.rvs))\n",
    "\n",
    "    def __getitem__(self, index):\n",
    "        \n",
    "        return {'img': self.type(self.img_stack[index,...]).double(), 'rvs': self.rvs_stack[index]}\n",
    "    \n",
    "    \n",
    "    def __len__(self):\n",
    "        return len(self.rvs_stack)"
   ]
  },
  {
   "cell_type": "code",
   "execution_count": 27,
   "id": "53249f31",
   "metadata": {},
   "outputs": [],
   "source": [
    "# files1 = glob.glob('/scratch/mdd423/CNN_EPRV/data/HARPS/tryagain/51Peg-3/*.h5')\n",
    "# files2 = glob.glob('/scratch/mdd423/CNN_EPRV/data/HARPS/PEG51/51Peg-2/*.h5')\n",
    "# files3 = glob.glob('/scratch/mdd423/CNN_EPRV/data/HARPS/PEG51/51Peg-3/*.h5')\n",
    "# files4 = glob.glob('/scratch/mdd423/CNN_EPRV/data/HARPS/PEG51/51Peg-4/*.h5')\n",
    "# file_list = files1 + files2 + files3 + files4"
   ]
  },
  {
   "cell_type": "code",
   "execution_count": 28,
   "id": "c534cd33",
   "metadata": {},
   "outputs": [],
   "source": [
    "# files1"
   ]
  },
  {
   "cell_type": "code",
   "execution_count": 29,
   "id": "3cfb5174",
   "metadata": {
    "scrolled": true
   },
   "outputs": [],
   "source": [
    "# dataset = Multi_H5_Dataset([files1[2]])\n",
    "dataset = ND_Dataset(img_stack,bcs_stack - rvs_stack)"
   ]
  },
  {
   "cell_type": "code",
   "execution_count": 30,
   "id": "260f6bab",
   "metadata": {},
   "outputs": [
    {
     "data": {
      "text/plain": [
       "((311,), (311, 3, 256, 256))"
      ]
     },
     "execution_count": 30,
     "metadata": {},
     "output_type": "execute_result"
    }
   ],
   "source": [
    "bcs_stack.shape, img_stack.shape"
   ]
  },
  {
   "cell_type": "code",
   "execution_count": 31,
   "id": "4b8b4ce6",
   "metadata": {},
   "outputs": [],
   "source": [
    "testdata,validdata = torch.utils.data.random_split(dataset,[270,41])"
   ]
  },
  {
   "cell_type": "code",
   "execution_count": 32,
   "id": "5fcfd9bf",
   "metadata": {},
   "outputs": [
    {
     "data": {
      "text/plain": [
       "311"
      ]
     },
     "execution_count": 32,
     "metadata": {},
     "output_type": "execute_result"
    }
   ],
   "source": [
    "len(dataset)"
   ]
  },
  {
   "cell_type": "code",
   "execution_count": 33,
   "id": "a57b804d",
   "metadata": {},
   "outputs": [],
   "source": [
    "import os.path"
   ]
  },
  {
   "cell_type": "markdown",
   "id": "9eb8a6cf",
   "metadata": {},
   "source": [
    "<h2>Defining Fitting Process</h2>\n",
    "including hyperparameters, the loss function, and the optimization algo"
   ]
  },
  {
   "cell_type": "code",
   "execution_count": 34,
   "id": "0c778bcf",
   "metadata": {},
   "outputs": [],
   "source": [
    "if torch.cuda.is_available():\n",
    "    device = torch.device('cuda')\n",
    "else:\n",
    "    device = torch.device('cpu')"
   ]
  },
  {
   "cell_type": "code",
   "execution_count": 35,
   "id": "2d05a425",
   "metadata": {},
   "outputs": [
    {
     "name": "stdout",
     "output_type": "stream",
     "text": [
      "cuda\n"
     ]
    }
   ],
   "source": [
    "print(device)"
   ]
  },
  {
   "cell_type": "code",
   "execution_count": 36,
   "id": "aa2b7f44",
   "metadata": {},
   "outputs": [],
   "source": [
    "lr = 0.001\n",
    "b1 = 0.9\n",
    "b2 = 0.999"
   ]
  },
  {
   "cell_type": "code",
   "execution_count": 37,
   "id": "0cfd1cc9",
   "metadata": {},
   "outputs": [],
   "source": [
    "model = RV_Model().to(device)\n",
    "mse_loss = torch.nn.MSELoss()\n",
    "optimizer = torch.optim.Adam(model.parameters(), lr=lr, betas=(b1, b2))"
   ]
  },
  {
   "cell_type": "code",
   "execution_count": 38,
   "id": "cf2cad0c",
   "metadata": {},
   "outputs": [],
   "source": [
    "batch_size = 8\n",
    "n_cpu = 4\n",
    "dataloader = DataLoader(\n",
    "    testdata,\n",
    "    batch_size=batch_size,\n",
    "    shuffle=True,\n",
    "    num_workers=n_cpu,\n",
    ")\n",
    "\n",
    "validloader = DataLoader(\n",
    "    validdata,\n",
    "    batch_size=batch_size,\n",
    "    shuffle=True,\n",
    "    num_workers=n_cpu,\n",
    ")"
   ]
  },
  {
   "cell_type": "markdown",
   "id": "920fe1b3",
   "metadata": {},
   "source": [
    "<h2>Training Step</h2>\n",
    "the working step!"
   ]
  },
  {
   "cell_type": "code",
   "execution_count": 39,
   "id": "ae999c0d",
   "metadata": {},
   "outputs": [],
   "source": [
    "import sys\n",
    "import time\n",
    "import datetime\n",
    "import itertools"
   ]
  },
  {
   "cell_type": "code",
   "execution_count": 40,
   "id": "c872ca6d",
   "metadata": {},
   "outputs": [
    {
     "data": {
      "text/plain": [
       "1.555"
      ]
     },
     "execution_count": 40,
     "metadata": {},
     "output_type": "execute_result"
    }
   ],
   "source": [
    "2*len(dataset)/400"
   ]
  },
  {
   "cell_type": "code",
   "execution_count": 41,
   "id": "991ff708",
   "metadata": {},
   "outputs": [
    {
     "name": "stdout",
     "output_type": "stream",
     "text": [
      "[Epoch 0/100] [Batch 20/34] [Train Loss: 34.945680] [Valid Loss: 2814.738451] [BT: 0:00:02.938114] [ET: 0:00:00] [RT: 2:45:27.888343]]]"
     ]
    },
    {
     "name": "stderr",
     "output_type": "stream",
     "text": [
      "/ext3/miniconda3/envs/cnnenv/lib/python3.10/site-packages/torch/nn/modules/loss.py:529: UserWarning: Using a target size (torch.Size([1])) that is different to the input size (torch.Size([])). This will likely lead to incorrect results due to broadcasting. Please ensure they have the same size.\n",
      "  return F.mse_loss(input, target, reduction=self.reduction)\n"
     ]
    },
    {
     "name": "stdout",
     "output_type": "stream",
     "text": [
      "[Epoch 99/100] [Batch 30/34] [Train Loss: 62.761739] [Valid Loss: 6.855266] [BT: 0:00:02.311066] [ET: 0:01:18.579841] [RT: 0:00:06.933199]]]]"
     ]
    }
   ],
   "source": [
    "n_epochs = 100\n",
    "train_loss = []\n",
    "valid_loss = []\n",
    "\n",
    "valiter = itertools.cycle(validloader)\n",
    "b_avg = 0.0\n",
    "e_avg = 0.0\n",
    "\n",
    "start_t = time.time()\n",
    "\n",
    "directory, tail = path.split(filename)\n",
    "for j,epoch in enumerate(range(n_epochs)):\n",
    "    \n",
    "    for i, batch in enumerate(dataloader):\n",
    "        optimizer.zero_grad()\n",
    "        y    = model(batch['img'].to(device)).squeeze()\n",
    "        loss = mse_loss(y,batch['rvs'].to(device).double())\n",
    "        loss.backward()\n",
    "        optimizer.step()\n",
    "        b_time = time.time() - start_t\n",
    "        b_avg  = b_time / (i + 1 + (j * len(dataloader)))\n",
    "        \n",
    "        if (i % 5) == 0:\n",
    "            # Validation checkpoint every 5 batches\n",
    "            valbatch = next(valiter)\n",
    "            model.eval()\n",
    "            with torch.no_grad():\n",
    "                y     = model(     valbatch['img'].to(device)).squeeze()\n",
    "                vloss = mse_loss(y,valbatch['rvs'].to(device).double())\n",
    "                \n",
    "                r_time = b_avg * ((len(dataloader) * n_epochs) - (i + 1 + (j * len(dataloader))))\n",
    "                sys.stdout.write(\n",
    "                        \"\\r[Epoch %d/%d] [Batch %d/%d] [Train Loss: %f] [Valid Loss: %f] [BT: %s] [ET: %s] [RT: %s]\"\n",
    "                        % (\n",
    "                            epoch,\n",
    "                            n_epochs,\n",
    "                            i,\n",
    "                            len(dataloader),\n",
    "                            loss.item(),\n",
    "                            vloss.item(),\n",
    "                            str(datetime.timedelta(seconds=b_avg)),\n",
    "                            str(datetime.timedelta(seconds=e_avg)),\n",
    "                            str(datetime.timedelta(seconds=r_time))\n",
    "                        )  \n",
    "                )\n",
    "            \n",
    "            model.train()\n",
    "            \n",
    "    train_loss.append(loss.item())\n",
    "    valid_loss.append(vloss.item())\n",
    "    if (j % 10) == 0:\n",
    "        # Saving checkpoint every 10 epoches\n",
    "        modelpath = '/scratch/mdd423/CNN_EPRV/models/rv_model_{}_{}_{}_bcs-rvs.model'.format(tail[:-3],j,n_epochs)\n",
    "        torch.save(model.state_dict(), modelpath)\n",
    "    e_time = time.time() - start_t\n",
    "    e_avg  = e_time/(j + 1)\n",
    "train_loss = np.array(train_loss)\n",
    "valid_loss = np.array(valid_loss)"
   ]
  },
  {
   "cell_type": "code",
   "execution_count": 42,
   "id": "bff6e5c3",
   "metadata": {},
   "outputs": [
    {
     "name": "stdout",
     "output_type": "stream",
     "text": [
      "18985665\n"
     ]
    }
   ],
   "source": [
    "thing = 0\n",
    "for parameter in model.parameters():\n",
    "#     print(parameter.shape)\n",
    "    thing += np.product(parameter.shape)\n",
    "print(thing)"
   ]
  },
  {
   "cell_type": "code",
   "execution_count": 43,
   "id": "76fa50a1",
   "metadata": {},
   "outputs": [],
   "source": [
    "modelpath = '/scratch/mdd423/CNN_EPRV/models/rv_model_{}_{}_{}_bcs-rvs.model'.format(tail[:-3],j,n_epochs)\n",
    "torch.save(model.state_dict(), modelpath)"
   ]
  },
  {
   "cell_type": "code",
   "execution_count": 44,
   "id": "39c23b36",
   "metadata": {},
   "outputs": [],
   "source": [
    "tlname = path.join(dir_name, tailname + '_tl_bcs-rvs.nda')\n",
    "vlname = path.join(dir_name, tailname + '_vl_bcs-rvs.nda')\n",
    "save(tlname,train_loss)\n",
    "save(vlname,valid_loss)"
   ]
  },
  {
   "cell_type": "code",
   "execution_count": null,
   "id": "0ad73a42",
   "metadata": {},
   "outputs": [],
   "source": []
  }
 ],
 "metadata": {
  "kernelspec": {
   "display_name": "Python 3 (ipykernel)",
   "language": "python",
   "name": "python3"
  },
  "language_info": {
   "codemirror_mode": {
    "name": "ipython",
    "version": 3
   },
   "file_extension": ".py",
   "mimetype": "text/x-python",
   "name": "python",
   "nbconvert_exporter": "python",
   "pygments_lexer": "ipython3",
   "version": "3.10.9"
  }
 },
 "nbformat": 4,
 "nbformat_minor": 5
}
