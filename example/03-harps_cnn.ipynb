{
 "cells": [
  {
   "cell_type": "markdown",
   "id": "f7057c08",
   "metadata": {},
   "source": [
    "<h1>CNNs for EPRV on HARPS</h1>\n",
    "The goal here is to training a CNN using HARPS images to the outputs of the HARPS EPRV extraction pipeline to see it a large of NN can replicated more explicit modeling."
   ]
  },
  {
   "cell_type": "code",
   "execution_count": 1,
   "id": "c71f8e85",
   "metadata": {},
   "outputs": [
    {
     "ename": "ModuleNotFoundError",
     "evalue": "No module named 'torch'",
     "output_type": "error",
     "traceback": [
      "\u001b[0;31m---------------------------------------------------------------------------\u001b[0m",
      "\u001b[0;31mModuleNotFoundError\u001b[0m                       Traceback (most recent call last)",
      "Input \u001b[0;32mIn [1]\u001b[0m, in \u001b[0;36m<cell line: 1>\u001b[0;34m()\u001b[0m\n\u001b[0;32m----> 1\u001b[0m \u001b[38;5;28;01mimport\u001b[39;00m \u001b[38;5;21;01mtorch\u001b[39;00m\n\u001b[1;32m      2\u001b[0m \u001b[38;5;28;01mimport\u001b[39;00m \u001b[38;5;21;01mtorch\u001b[39;00m\u001b[38;5;21;01m.\u001b[39;00m\u001b[38;5;21;01mnn\u001b[39;00m \u001b[38;5;28;01mas\u001b[39;00m \u001b[38;5;21;01mnn\u001b[39;00m\n\u001b[1;32m      3\u001b[0m \u001b[38;5;28;01mimport\u001b[39;00m \u001b[38;5;21;01mtorch\u001b[39;00m\u001b[38;5;21;01m.\u001b[39;00m\u001b[38;5;21;01mnn\u001b[39;00m\u001b[38;5;21;01m.\u001b[39;00m\u001b[38;5;21;01mfunctional\u001b[39;00m \u001b[38;5;28;01mas\u001b[39;00m \u001b[38;5;21;01mF\u001b[39;00m\n",
      "\u001b[0;31mModuleNotFoundError\u001b[0m: No module named 'torch'"
     ]
    }
   ],
   "source": [
    "import torch\n",
    "import torch.nn as nn\n",
    "import torch.nn.functional as F\n",
    "from torchvision.transforms import transforms\n",
    "from torch.utils.data import DataLoader"
   ]
  },
  {
   "cell_type": "code",
   "execution_count": 2,
   "id": "85f4c99a",
   "metadata": {},
   "outputs": [
    {
     "ename": "NameError",
     "evalue": "name 'torch' is not defined",
     "output_type": "error",
     "traceback": [
      "\u001b[0;31m---------------------------------------------------------------------------\u001b[0m",
      "\u001b[0;31mNameError\u001b[0m                                 Traceback (most recent call last)",
      "Input \u001b[0;32mIn [2]\u001b[0m, in \u001b[0;36m<cell line: 1>\u001b[0;34m()\u001b[0m\n\u001b[0;32m----> 1\u001b[0m \u001b[38;5;28mprint\u001b[39m(\u001b[43mtorch\u001b[49m\u001b[38;5;241m.\u001b[39mcuda\u001b[38;5;241m.\u001b[39mis_available())\n",
      "\u001b[0;31mNameError\u001b[0m: name 'torch' is not defined"
     ]
    }
   ],
   "source": [
    "print(torch.cuda.is_available())"
   ]
  },
  {
   "cell_type": "code",
   "execution_count": 3,
   "id": "38213be0",
   "metadata": {},
   "outputs": [
    {
     "ename": "NameError",
     "evalue": "name 'torch' is not defined",
     "output_type": "error",
     "traceback": [
      "\u001b[0;31m---------------------------------------------------------------------------\u001b[0m",
      "\u001b[0;31mNameError\u001b[0m                                 Traceback (most recent call last)",
      "Input \u001b[0;32mIn [3]\u001b[0m, in \u001b[0;36m<cell line: 1>\u001b[0;34m()\u001b[0m\n\u001b[0;32m----> 1\u001b[0m \u001b[43mtorch\u001b[49m\u001b[38;5;241m.\u001b[39mcuda\u001b[38;5;241m.\u001b[39mdevice_count()\n",
      "\u001b[0;31mNameError\u001b[0m: name 'torch' is not defined"
     ]
    }
   ],
   "source": [
    "torch.cuda.device_count()"
   ]
  },
  {
   "cell_type": "code",
   "execution_count": 4,
   "id": "a3ddfb1e",
   "metadata": {},
   "outputs": [
    {
     "ename": "NameError",
     "evalue": "name 'torch' is not defined",
     "output_type": "error",
     "traceback": [
      "\u001b[0;31m---------------------------------------------------------------------------\u001b[0m",
      "\u001b[0;31mNameError\u001b[0m                                 Traceback (most recent call last)",
      "Input \u001b[0;32mIn [4]\u001b[0m, in \u001b[0;36m<cell line: 1>\u001b[0;34m()\u001b[0m\n\u001b[0;32m----> 1\u001b[0m cuda \u001b[38;5;241m=\u001b[39m \u001b[43mtorch\u001b[49m\u001b[38;5;241m.\u001b[39mdevice(\u001b[38;5;124m'\u001b[39m\u001b[38;5;124mcuda\u001b[39m\u001b[38;5;124m'\u001b[39m)\n\u001b[1;32m      2\u001b[0m a \u001b[38;5;241m=\u001b[39m torch\u001b[38;5;241m.\u001b[39mtensor([\u001b[38;5;241m1.\u001b[39m, \u001b[38;5;241m2.\u001b[39m], device\u001b[38;5;241m=\u001b[39mcuda)\n",
      "\u001b[0;31mNameError\u001b[0m: name 'torch' is not defined"
     ]
    }
   ],
   "source": [
    "cuda = torch.device('cuda')\n",
    "a = torch.tensor([1., 2.], device=cuda)"
   ]
  },
  {
   "cell_type": "code",
   "execution_count": 5,
   "id": "a1748c07",
   "metadata": {},
   "outputs": [
    {
     "name": "stdout",
     "output_type": "stream",
     "text": [
      "Python 3.7.12\n"
     ]
    },
    {
     "data": {
      "text/plain": [
       "CompletedProcess(args=['python', '--version'], returncode=0)"
      ]
     },
     "execution_count": 5,
     "metadata": {},
     "output_type": "execute_result"
    }
   ],
   "source": [
    "import subprocess\n",
    "subprocess.run([\"python\", \"--version\"])"
   ]
  },
  {
   "cell_type": "code",
   "execution_count": 8,
   "id": "b96fb632",
   "metadata": {},
   "outputs": [
    {
     "ename": "ModuleNotFoundError",
     "evalue": "No module named 'torchvision'",
     "output_type": "error",
     "traceback": [
      "\u001b[0;31m---------------------------------------------------------------------------\u001b[0m",
      "\u001b[0;31mModuleNotFoundError\u001b[0m                       Traceback (most recent call last)",
      "Input \u001b[0;32mIn [8]\u001b[0m, in \u001b[0;36m<cell line: 1>\u001b[0;34m()\u001b[0m\n\u001b[0;32m----> 1\u001b[0m \u001b[38;5;28;01mimport\u001b[39;00m \u001b[38;5;21;01mtorchvision\u001b[39;00m\n",
      "\u001b[0;31mModuleNotFoundError\u001b[0m: No module named 'torchvision'"
     ]
    }
   ],
   "source": [
    "import torchvision"
   ]
  },
  {
   "cell_type": "code",
   "execution_count": 11,
   "id": "5817a7be",
   "metadata": {
    "scrolled": false
   },
   "outputs": [
    {
     "name": "stdout",
     "output_type": "stream",
     "text": [
      "Python 3.7.12\n"
     ]
    },
    {
     "data": {
      "text/plain": [
       "CompletedProcess(args=['python', '--version'], returncode=0)"
      ]
     },
     "execution_count": 11,
     "metadata": {},
     "output_type": "execute_result"
    }
   ],
   "source": [
    "subprocess.run(['python','--version'])"
   ]
  },
  {
   "cell_type": "markdown",
   "id": "fcf1909b",
   "metadata": {},
   "source": [
    "<h2>Model definition</h2>"
   ]
  },
  {
   "cell_type": "markdown",
   "id": "d64996c4",
   "metadata": {},
   "source": [
    "Higher stride at higher layers,"
   ]
  },
  {
   "cell_type": "code",
   "execution_count": 9,
   "id": "332ae65d",
   "metadata": {},
   "outputs": [],
   "source": [
    "class DownSizeNet(nn.Module):\n",
    "    def __init__(self, in_size, out_size, normalize=True, leaky_slope=0.2):\n",
    "        super(DownSizeNet, self).__init__()\n",
    "        layers = [nn.Conv2d(in_size, out_size, 3, stride=1, padding=1, bias=False).double()]\n",
    "        if normalize:\n",
    "            layers.append(nn.BatchNorm2d(out_size, 0.8).double())\n",
    "        layers.append(nn.LeakyReLU(leaky_slope).double())\n",
    "        self.model = nn.Sequential(*layers)\n",
    "\n",
    "    def forward(self, x):\n",
    "        return self.model(x)\n",
    "\n",
    "# class DenseLayer(nn.Module):\n",
    "#     def __init__(self):\n",
    "#         super(DenseLayer)\n",
    "    \n",
    "class RV_Model(nn.Module):\n",
    "    def __init__(self):\n",
    "        super(RV_Model, self).__init__()\n",
    "        self.down1 = DownSizeNet(3, 64, normalize=False)\n",
    "        self.down2 = DownSizeNet(64, 128)\n",
    "        self.down3 = DownSizeNet(128, 256)\n",
    "        self.down4 = DownSizeNet(256, 512)\n",
    "        self.down5 = DownSizeNet(512, 512)\n",
    "        self.down6 = DownSizeNet(512, 512)\n",
    "        self.final = nn.Sequential(\n",
    "            nn.Conv2d(512, 1, 3, stride=1, padding=1).double(), nn.Tanh().double()\n",
    "        )\n",
    "        \n",
    "        \n",
    "    def forward(self, x):\n",
    "        # Propogate noise through fc layer and reshape to img shape\n",
    "        d1 = self.down1(x)\n",
    "        d2 = self.down2(d1)\n",
    "        d3 = self.down3(d2)\n",
    "        d4 = self.down4(d3)\n",
    "        d5 = self.down5(d4)\n",
    "        d6 = self.down6(d5)\n",
    "        \n",
    "        return self.final(d6)"
   ]
  },
  {
   "cell_type": "code",
   "execution_count": 10,
   "id": "020d3e91",
   "metadata": {},
   "outputs": [],
   "source": [
    "from torch.utils.data import Dataset\n",
    "import glob"
   ]
  },
  {
   "cell_type": "code",
   "execution_count": 11,
   "id": "692c9f5f",
   "metadata": {},
   "outputs": [],
   "source": [
    "from astropy.io import fits"
   ]
  },
  {
   "cell_type": "markdown",
   "id": "5e409343",
   "metadata": {},
   "source": [
    "<h2>Dataset importing</h2>\n",
    "The question here is how is the data organized in the directory and how can it be imported with the target RV. \n",
    "\n",
    "Not the OG data but after the data is saved from the pre processing step."
   ]
  },
  {
   "cell_type": "code",
   "execution_count": 12,
   "id": "987c8771",
   "metadata": {},
   "outputs": [],
   "source": [
    "import pickle"
   ]
  },
  {
   "cell_type": "code",
   "execution_count": 21,
   "id": "3f9d6034",
   "metadata": {},
   "outputs": [
    {
     "ename": "ModuleNotFoundError",
     "evalue": "No module named 'h5py'",
     "output_type": "error",
     "traceback": [
      "\u001b[0;31m---------------------------------------------------------------------------\u001b[0m",
      "\u001b[0;31mModuleNotFoundError\u001b[0m                       Traceback (most recent call last)",
      "Cell \u001b[0;32mIn[21], line 2\u001b[0m\n\u001b[1;32m      1\u001b[0m \u001b[38;5;28;01mimport\u001b[39;00m \u001b[38;5;21;01mnumpy\u001b[39;00m \u001b[38;5;28;01mas\u001b[39;00m \u001b[38;5;21;01mnp\u001b[39;00m\n\u001b[0;32m----> 2\u001b[0m \u001b[38;5;28;01mimport\u001b[39;00m \u001b[38;5;21;01mh5py\u001b[39;00m \u001b[38;5;28;01mas\u001b[39;00m \u001b[38;5;21;01mh5\u001b[39;00m\n\u001b[1;32m      3\u001b[0m filename \u001b[38;5;241m=\u001b[39m \u001b[38;5;124m\"\u001b[39m\u001b[38;5;124m../data/HARPS/PEG51/51Peg_1020-1546_1530-2056.h5\u001b[39m\u001b[38;5;124m\"\u001b[39m\n\u001b[1;32m      5\u001b[0m \u001b[38;5;66;03m# ds = h5.File(filename,'r')\u001b[39;00m\n",
      "\u001b[0;31mModuleNotFoundError\u001b[0m: No module named 'h5py'"
     ]
    }
   ],
   "source": [
    "import numpy as np\n",
    "import h5py as h5\n",
    "filename = \"../data/HARPS/PEG51/51Peg_1020-1546_1530-2056.h5\"\n",
    "\n",
    "# ds = h5.File(filename,'r')"
   ]
  },
  {
   "cell_type": "code",
   "execution_count": null,
   "id": "731eaa8e",
   "metadata": {},
   "outputs": [],
   "source": [
    "def get_length(ds):\n",
    "    total = 0\n",
    "    address_book = []\n",
    "    rvs = []\n",
    "    \n",
    "    for visit_name,vist_info in ds['visits'].items():\n",
    "        for hdu_num in ds['images'][visit_name].keys():\n",
    "            value = np.sum(np.array(ds['images'][visit_name][hdu_num]).shape)\n",
    "            if value != 526*2:\n",
    "                print(value)\n",
    "            if value == (526*2):\n",
    "                address_book.append({'sci': visit_name,\n",
    "                                     'flat': '',\n",
    "                                     'cali': '',\n",
    "                                     'hdu': hdu_num})\n",
    "                rvs.append(np.double(vist_info.attrs['ESO DRS CCF RVC']))\n",
    "                flat_bool = False\n",
    "                cali_bool = False\n",
    "                for key in vist_info.attrs.keys():\n",
    "                    if vist_info.attrs[key] == 'FLAT' and not flat_bool:\n",
    "                        address_book[-1]['flat'] = key\n",
    "                        flat_bool = True\n",
    "                    if vist_info.attrs[key] == 'THAR_THAR' and not cali_bool:\n",
    "                        address_book[-1]['cali'] = key\n",
    "                        cali_bool = True\n",
    "                \n",
    "                total += 1\n",
    "    return total, address_book, rvs\n",
    "# length, address_book, rvs = get_length(ds)"
   ]
  },
  {
   "cell_type": "code",
   "execution_count": null,
   "id": "133c50c9",
   "metadata": {},
   "outputs": [],
   "source": [
    "a = [1,2]\n",
    "b = [3,4]\n",
    "a += b\n",
    "print(a)"
   ]
  },
  {
   "cell_type": "code",
   "execution_count": null,
   "id": "23f6317f",
   "metadata": {},
   "outputs": [],
   "source": [
    "class Multi_H5_Dataset(Dataset):\n",
    "    def __init__(self, h5_files):\n",
    "        self.h5_files = h5_files\n",
    "        self.type = torch.Tensor\n",
    "#         self.ds = {}\n",
    "        self.length = 0\n",
    "        self.rvs = np.array([])\n",
    "        self.address = []\n",
    "        for file in h5_files:\n",
    "            ds = h5.File(file,'r')\n",
    "#             self.ds[file] = ds\n",
    "            length, address, rvs = get_length(ds)\n",
    "            for addy in address:\n",
    "                addy['file'] = file\n",
    "            self.address += address\n",
    "            self.length += length\n",
    "            self.rvs = np.hstack((self.rvs,np.array(rvs)))\n",
    "        print(self.length,len(self.rvs))\n",
    "\n",
    "    def __getitem__(self, index):\n",
    "        ds = h5.File(self.address[index]['file'],'r')\n",
    "        \n",
    "        image = np.stack((np.array(ds['images'][self.address[index]['sci']][self.address[index]['hdu']])\n",
    "                         ,np.array(ds['images'][self.address[index]['flat']][self.address[index]['hdu']])\n",
    "                         ,np.array(ds['images'][self.address[index]['cali']][self.address[index]['hdu']])),axis=0)\n",
    "        return {'img': self.type(image).double(), 'rvs': self.rvs[index]}\n",
    "    \n",
    "    \n",
    "    def __len__(self):\n",
    "        return self.length"
   ]
  },
  {
   "cell_type": "code",
   "execution_count": null,
   "id": "ff11664d",
   "metadata": {},
   "outputs": [],
   "source": [
    "torch.cuda.is_available()"
   ]
  },
  {
   "cell_type": "code",
   "execution_count": null,
   "id": "86317701",
   "metadata": {},
   "outputs": [],
   "source": [
    "import cudatoolkit"
   ]
  },
  {
   "cell_type": "code",
   "execution_count": null,
   "id": "53249f31",
   "metadata": {},
   "outputs": [],
   "source": [
    "files1 = glob.glob('/scratch/mdd423/CNN_EPRV/data/HARPS/PEG51/*.h5')\n",
    "# files2 = glob.glob('/scratch/mdd423/CNN_EPRV/data/HARPS/PEG51/51Peg-2/*.h5')\n",
    "# files3 = glob.glob('/scratch/mdd423/CNN_EPRV/data/HARPS/PEG51/51Peg-3/*.h5')\n",
    "# files4 = glob.glob('/scratch/mdd423/CNN_EPRV/data/HARPS/PEG51/51Peg-4/*.h5')\n",
    "# file_list = [*files1,*files2,*files3,*files4]"
   ]
  },
  {
   "cell_type": "code",
   "execution_count": null,
   "id": "c534cd33",
   "metadata": {},
   "outputs": [],
   "source": [
    "# file_list"
   ]
  },
  {
   "cell_type": "code",
   "execution_count": null,
   "id": "3cfb5174",
   "metadata": {
    "scrolled": true
   },
   "outputs": [],
   "source": [
    "dataset = Multi_H5_Dataset(files1)"
   ]
  },
  {
   "cell_type": "code",
   "execution_count": null,
   "id": "e588fe24",
   "metadata": {},
   "outputs": [],
   "source": [
    "class RV_Dataset(Dataset):\n",
    "    def __init__(self, h5_file):\n",
    "        self.h5_file = h5_file\n",
    "        self.type = torch.Tensor\n",
    "        self.ds = h5.File(h5_file,'r')\n",
    "        self.length, self.address, self.rvs = get_length(self.ds)\n",
    "        print(self.length,len(self.rvs))\n",
    "\n",
    "    def __getitem__(self, index):\n",
    "        \n",
    "        image = np.stack((np.array(self.ds['images'][self.address[index][0]][self.address[index][-1]])\n",
    "                         ,np.array(self.ds['images'][self.address[index][1]][self.address[index][-1]])\n",
    "                         ,np.array(self.ds['images'][self.address[index][2]][self.address[index][-1]])),axis=0)\n",
    "        return {'img': self.type(image).double(), 'rvs': self.rvs[index]}\n",
    "    \n",
    "    \n",
    "    def __len__(self):\n",
    "        return self.length\n"
   ]
  },
  {
   "cell_type": "code",
   "execution_count": 14,
   "id": "a57b804d",
   "metadata": {},
   "outputs": [],
   "source": [
    "import os.path"
   ]
  },
  {
   "cell_type": "markdown",
   "id": "9eb8a6cf",
   "metadata": {},
   "source": [
    "<h2>Defining Fitting Process</h2>\n",
    "including hyperparameters, the loss function, and the optimization algo"
   ]
  },
  {
   "cell_type": "code",
   "execution_count": 15,
   "id": "aa2b7f44",
   "metadata": {},
   "outputs": [],
   "source": [
    "lr = 0.001\n",
    "b1 = 0.9\n",
    "b2 = 0.999"
   ]
  },
  {
   "cell_type": "code",
   "execution_count": 16,
   "id": "0cfd1cc9",
   "metadata": {},
   "outputs": [],
   "source": [
    "model = RV_Model()\n",
    "mse_loss = torch.nn.MSELoss()\n",
    "optimizer = torch.optim.Adam(model.parameters(), lr=lr, betas=(b1, b2))"
   ]
  },
  {
   "cell_type": "code",
   "execution_count": 17,
   "id": "cf2cad0c",
   "metadata": {},
   "outputs": [
    {
     "ename": "NameError",
     "evalue": "name 'dataset' is not defined",
     "output_type": "error",
     "traceback": [
      "\u001b[0;31m---------------------------------------------------------------------------\u001b[0m",
      "\u001b[0;31mNameError\u001b[0m                                 Traceback (most recent call last)",
      "Cell \u001b[0;32mIn[17], line 5\u001b[0m\n\u001b[1;32m      2\u001b[0m batch_size \u001b[38;5;241m=\u001b[39m \u001b[38;5;241m2\u001b[39m\n\u001b[1;32m      3\u001b[0m n_cpu \u001b[38;5;241m=\u001b[39m \u001b[38;5;241m1\u001b[39m\n\u001b[1;32m      4\u001b[0m dataloader \u001b[38;5;241m=\u001b[39m DataLoader(\n\u001b[0;32m----> 5\u001b[0m     \u001b[43mdataset\u001b[49m,\n\u001b[1;32m      6\u001b[0m     batch_size\u001b[38;5;241m=\u001b[39mbatch_size,\n\u001b[1;32m      7\u001b[0m     shuffle\u001b[38;5;241m=\u001b[39m\u001b[38;5;28;01mTrue\u001b[39;00m,\n\u001b[1;32m      8\u001b[0m     num_workers\u001b[38;5;241m=\u001b[39mn_cpu,\n\u001b[1;32m      9\u001b[0m )\n",
      "\u001b[0;31mNameError\u001b[0m: name 'dataset' is not defined"
     ]
    }
   ],
   "source": [
    "# directory = something\n",
    "batch_size = 2\n",
    "n_cpu = 1\n",
    "dataloader = DataLoader(\n",
    "    dataset,\n",
    "    batch_size=batch_size,\n",
    "    shuffle=True,\n",
    "    num_workers=n_cpu,\n",
    ")"
   ]
  },
  {
   "cell_type": "code",
   "execution_count": 18,
   "id": "8739cf0f",
   "metadata": {},
   "outputs": [],
   "source": [
    "import time\n",
    "import datetime"
   ]
  },
  {
   "cell_type": "markdown",
   "id": "920fe1b3",
   "metadata": {},
   "source": [
    "<h2>Training Step</h2>\n",
    "the working step!"
   ]
  },
  {
   "cell_type": "code",
   "execution_count": 19,
   "id": "ae999c0d",
   "metadata": {},
   "outputs": [],
   "source": [
    "import sys"
   ]
  },
  {
   "cell_type": "code",
   "execution_count": 22,
   "id": "991ff708",
   "metadata": {},
   "outputs": [
    {
     "ename": "NameError",
     "evalue": "name 'dataloader' is not defined",
     "output_type": "error",
     "traceback": [
      "\u001b[0;31m---------------------------------------------------------------------------\u001b[0m",
      "\u001b[0;31mNameError\u001b[0m                                 Traceback (most recent call last)",
      "Cell \u001b[0;32mIn[22], line 5\u001b[0m\n\u001b[1;32m      3\u001b[0m \u001b[38;5;66;03m# validiter = iter(validloader)\u001b[39;00m\n\u001b[1;32m      4\u001b[0m \u001b[38;5;28;01mfor\u001b[39;00m epoch \u001b[38;5;129;01min\u001b[39;00m \u001b[38;5;28mrange\u001b[39m(n_epochs):\n\u001b[0;32m----> 5\u001b[0m     \u001b[38;5;28;01mfor\u001b[39;00m i, batch \u001b[38;5;129;01min\u001b[39;00m \u001b[38;5;28menumerate\u001b[39m(\u001b[43mdataloader\u001b[49m):\n\u001b[1;32m      7\u001b[0m         optimizer\u001b[38;5;241m.\u001b[39mzero_grad()\n\u001b[1;32m      8\u001b[0m         something \u001b[38;5;241m=\u001b[39m model(batch[\u001b[38;5;124m'\u001b[39m\u001b[38;5;124mimg\u001b[39m\u001b[38;5;124m'\u001b[39m])\n",
      "\u001b[0;31mNameError\u001b[0m: name 'dataloader' is not defined"
     ]
    }
   ],
   "source": [
    "prev_time = time.time()\n",
    "n_epochs = 1\n",
    "# validiter = iter(validloader)\n",
    "for epoch in range(n_epochs):\n",
    "    for i, batch in enumerate(dataloader):\n",
    "        \n",
    "        optimizer.zero_grad()\n",
    "        something = model(batch['img'])\n",
    "        y         = something.view(batch['img' t].shape[0], -1).median(1)\n",
    "        loss      = mse_loss(y,batch['rvs'].double())\n",
    "        loss.backward()\n",
    "        optimizer.step()\n",
    "    \n",
    "        sys.stdout.write(\n",
    "                \"\\r[Epoch %d/%d] [Batch %d/%d] [Loss: %f]\"\n",
    "                % (\n",
    "                    epoch,\n",
    "                    n_epochs,\n",
    "                    i,\n",
    "                    len(dataloader),\n",
    "                    loss.item()\n",
    "                )  \n",
    "        )        "
   ]
  },
  {
   "cell_type": "code",
   "execution_count": null,
   "id": "bff6e5c3",
   "metadata": {},
   "outputs": [],
   "source": []
  }
 ],
 "metadata": {
  "kernelspec": {
   "display_name": "Python 3 (ipykernel)",
   "language": "python",
   "name": "python3"
  },
  "language_info": {
   "codemirror_mode": {
    "name": "ipython",
    "version": 3
   },
   "file_extension": ".py",
   "mimetype": "text/x-python",
   "name": "python",
   "nbconvert_exporter": "python",
   "pygments_lexer": "ipython3",
   "version": "3.8.10"
  }
 },
 "nbformat": 4,
 "nbformat_minor": 5
}
