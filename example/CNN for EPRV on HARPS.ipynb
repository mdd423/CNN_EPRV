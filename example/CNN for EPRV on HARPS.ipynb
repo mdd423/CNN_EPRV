{
 "cells": [
  {
   "cell_type": "markdown",
   "id": "f7057c08",
   "metadata": {},
   "source": [
    "<h1>CNNs for EPRV on HARPS</h1>\n",
    "The goal here is to training a CNN using HARPS images to the outputs of the HARPS EPRV extraction pipeline to see it a large of NN can replicated more explicit modeling."
   ]
  },
  {
   "cell_type": "code",
   "execution_count": 1,
   "id": "c71f8e85",
   "metadata": {},
   "outputs": [],
   "source": [
    "import torch\n",
    "import torch.nn as nn\n",
    "import torch.nn.functional as F\n",
    "from torchvision.transforms import transforms\n",
    "from torch.utils.data import DataLoader"
   ]
  },
  {
   "cell_type": "markdown",
   "id": "fcf1909b",
   "metadata": {},
   "source": [
    "<h2>Model definition</h2>"
   ]
  },
  {
   "cell_type": "code",
   "execution_count": 2,
   "id": "332ae65d",
   "metadata": {},
   "outputs": [],
   "source": [
    "class DownSizeNet(nn.Module):\n",
    "    def __init__(self, in_size, out_size, normalize=True, leaky_slope=0.2):\n",
    "        super(DownSizeNet, self).__init__()\n",
    "        layers = [nn.Conv2d(in_size, out_size, 3, stride=2, padding=1, bias=False).double()]\n",
    "        if normalize:\n",
    "            layers.append(nn.BatchNorm2d(out_size, 0.8).double())\n",
    "        layers.append(nn.LeakyReLU(leaky_slope).double())\n",
    "        self.model = nn.Sequential(*layers)\n",
    "\n",
    "    def forward(self, x):\n",
    "        return self.model(x)\n",
    "\n",
    "class RV_Model(nn.Module):\n",
    "    def __init__(self):\n",
    "        super(RV_Model, self).__init__()\n",
    "#         channels_in, self.h, self.w = in_shape\n",
    "#         channels_out, _, _ = out_shape\n",
    "\n",
    "#         self.fc    = nn.Linear(latent_dim, self.h * self.w)\n",
    "\n",
    "        self.down1 = DownSizeNet(3, 64, normalize=False)\n",
    "        self.down2 = DownSizeNet(64, 128)\n",
    "        self.down3 = DownSizeNet(128, 256)\n",
    "        self.down4 = DownSizeNet(256, 512)\n",
    "        self.down5 = DownSizeNet(512, 512)\n",
    "        self.down6 = DownSizeNet(512, 512)\n",
    "#         self.down7 = DownSizeNet(512, 1, normalize=False)\n",
    "        \n",
    "        self.final = nn.Sequential(\n",
    "            nn.Conv2d(512, 1, 3, stride=1, padding=1).double(), nn.Tanh().double()\n",
    "        )\n",
    "        \n",
    "        \n",
    "    def forward(self, x):\n",
    "        # Propogate noise through fc layer and reshape to img shape\n",
    "#         z = self.fc(z).view(z.size(0), 1, self.h, self.w)\n",
    "        d1 = self.down1(x)\n",
    "#         print('d1: {}'.format(d1.shape))\n",
    "        d2 = self.down2(d1)\n",
    "#         print('d2: {}'.format(d2.shape))\n",
    "        d3 = self.down3(d2)\n",
    "#         print('d3: {}'.format(d3.shape))\n",
    "        d4 = self.down4(d3)\n",
    "#         print('d4: {}'.format(d4.shape))\n",
    "        d5 = self.down5(d4)\n",
    "#         print('d5: {}'.format(d5.shape))\n",
    "        d6 = self.down6(d5)\n",
    "#         print('d6: {}'.format(d6.shape))\n",
    "#         d7 = self.down7(d6)\n",
    "#         print('d7: {}'.format(d7.shape))\n",
    "        \n",
    "        \n",
    "        return self.final(d6)"
   ]
  },
  {
   "cell_type": "code",
   "execution_count": 3,
   "id": "020d3e91",
   "metadata": {},
   "outputs": [],
   "source": [
    "from torch.utils.data import Dataset\n",
    "import glob"
   ]
  },
  {
   "cell_type": "code",
   "execution_count": 4,
   "id": "692c9f5f",
   "metadata": {},
   "outputs": [],
   "source": [
    "from astropy.io import fits"
   ]
  },
  {
   "cell_type": "markdown",
   "id": "5e409343",
   "metadata": {},
   "source": [
    "<h2>Dataset importing</h2>\n",
    "The question here is how is the data organized in the directory and how can it be imported with the target RV. \n",
    "\n",
    "Not the OG data but after the data is saved from the pre processing step."
   ]
  },
  {
   "cell_type": "code",
   "execution_count": 5,
   "id": "987c8771",
   "metadata": {},
   "outputs": [],
   "source": [
    "import pickle"
   ]
  },
  {
   "cell_type": "code",
   "execution_count": 6,
   "id": "3f9d6034",
   "metadata": {},
   "outputs": [],
   "source": [
    "import numpy as np\n",
    "import h5py as h5\n",
    "filename = \"../data/HARPS/PEG51/51Peg_1020-1546_1530-2056.h5\"\n",
    "\n",
    "# ds = h5.File(filename,'r')"
   ]
  },
  {
   "cell_type": "code",
   "execution_count": 7,
   "id": "731eaa8e",
   "metadata": {},
   "outputs": [],
   "source": [
    "def get_length(ds):\n",
    "    total = 0\n",
    "    address_book = []\n",
    "    rvs = []\n",
    "    \n",
    "    for x,v in ds['visits'].items():\n",
    "        for k in ds['images'][x].keys():\n",
    "            value = np.sum(np.array(ds['images'][x][k]).shape)\n",
    "            if value != 0:\n",
    "                address_book.append([x,'','',k])\n",
    "                rvs.append(np.double(v.attrs['ESO DRS CCF RVC']))\n",
    "                flat_bool = False\n",
    "                cali_bool = False\n",
    "                for key in v.attrs.keys():\n",
    "                    if v.attrs[key] == 'FLAT' and not flat_bool:\n",
    "                        address_book[-1][1] = key\n",
    "                        flat_bool = True\n",
    "                    if v.attrs[key] == 'THAR_THAR' and not cali_bool:\n",
    "                        address_book[-1][2] = key\n",
    "                        cali_bool = True\n",
    "                \n",
    "                total += 1\n",
    "    return total, address_book, rvs\n",
    "# length, address_book, rvs = get_length(ds)"
   ]
  },
  {
   "cell_type": "code",
   "execution_count": 74,
   "id": "e588fe24",
   "metadata": {},
   "outputs": [],
   "source": [
    "class RV_Dataset(Dataset):\n",
    "    def __init__(self, h5_file):\n",
    "        self.h5_file = h5_file\n",
    "        self.type = torch.Tensor\n",
    "        self.ds = h5.File(h5_file,'r')\n",
    "        self.length, self.address, self.rvs = get_length(self.ds)\n",
    "        print(self.length,len(self.rvs))\n",
    "\n",
    "    def __getitem__(self, index):\n",
    "        \n",
    "        image = np.stack((np.array(self.ds['images'][self.address[index][0]][self.address[index][-1]])\n",
    "                         ,np.array(self.ds['images'][self.address[index][1]][self.address[index][-1]])\n",
    "                         ,np.array(self.ds['images'][self.address[index][2]][self.address[index][-1]])),axis=0)\n",
    "        return {'img': self.type(image).double(), 'rvs': self.rvs[index]}\n",
    "    \n",
    "    \n",
    "    def __len__(self):\n",
    "        return self.length\n"
   ]
  },
  {
   "cell_type": "code",
   "execution_count": 75,
   "id": "fe6589fc",
   "metadata": {},
   "outputs": [],
   "source": [
    "# from astropy.nddata import Cutout2D\n",
    "# from astropy import units as u"
   ]
  },
  {
   "cell_type": "code",
   "execution_count": 76,
   "id": "a57b804d",
   "metadata": {},
   "outputs": [],
   "source": [
    "import os.path"
   ]
  },
  {
   "cell_type": "markdown",
   "id": "9eb8a6cf",
   "metadata": {},
   "source": [
    "<h2>Defining Fitting Process</h2>\n",
    "including hyperparameters, the loss function, and the optimization algo"
   ]
  },
  {
   "cell_type": "code",
   "execution_count": 77,
   "id": "aa2b7f44",
   "metadata": {},
   "outputs": [],
   "source": [
    "lr = 0.001#, betas=(, ),\n",
    "b1 = 0.9\n",
    "b2 = 0.999"
   ]
  },
  {
   "cell_type": "code",
   "execution_count": 78,
   "id": "0cfd1cc9",
   "metadata": {},
   "outputs": [],
   "source": [
    "model = RV_Model()\n",
    "mse_loss = torch.nn.MSELoss()\n",
    "optimizer = torch.optim.Adam(model.parameters(), lr=lr, betas=(b1, b2))"
   ]
  },
  {
   "cell_type": "code",
   "execution_count": 79,
   "id": "cf2cad0c",
   "metadata": {},
   "outputs": [
    {
     "name": "stdout",
     "output_type": "stream",
     "text": [
      "622 622\n"
     ]
    }
   ],
   "source": [
    "# directory = something\n",
    "batch_size = 2\n",
    "n_cpu = 1\n",
    "dataloader = DataLoader(\n",
    "    RV_Dataset(filename),\n",
    "    batch_size=batch_size,\n",
    "    shuffle=True,\n",
    "    num_workers=n_cpu,\n",
    ")\n",
    "\n",
    "# validloader = DataLoader(\n",
    "#     RV_Dataset(xs_valid,ys_valid),\n",
    "#     batch_size=batch_size,\n",
    "#     shuffle=True,\n",
    "#     num_workers=n_cpu,\n",
    "# )"
   ]
  },
  {
   "cell_type": "code",
   "execution_count": 80,
   "id": "8739cf0f",
   "metadata": {},
   "outputs": [],
   "source": [
    "import time\n",
    "import datetime"
   ]
  },
  {
   "cell_type": "markdown",
   "id": "920fe1b3",
   "metadata": {},
   "source": [
    "<h2>Training Step</h2>\n",
    "the working step!"
   ]
  },
  {
   "cell_type": "code",
   "execution_count": 81,
   "id": "ae999c0d",
   "metadata": {},
   "outputs": [],
   "source": [
    "import sys"
   ]
  },
  {
   "cell_type": "code",
   "execution_count": 84,
   "id": "991ff708",
   "metadata": {},
   "outputs": [
    {
     "name": "stdout",
     "output_type": "stream",
     "text": [
      "torch.Size([2, 3, 526, 526])\n",
      "torch.Size([2, 1, 9, 9])\n",
      "tensor([-1.0000, -1.0000], dtype=torch.float64, grad_fn=<MeanBackward1>) tensor([-33.1488, -33.1921])\n",
      "torch.Size([2, 3, 526, 526])\n",
      "torch.Size([2, 1, 9, 9])\n",
      "tensor([-1.0000, -1.0000], dtype=torch.float64, grad_fn=<MeanBackward1>) tensor([-33.0994, -33.1500])\n",
      "torch.Size([2, 3, 526, 526])\n",
      "torch.Size([2, 1, 9, 9])\n",
      "tensor([-1.0000, -1.0000], dtype=torch.float64, grad_fn=<MeanBackward1>) tensor([ -3.0676, -21.0807])\n",
      "torch.Size([2, 3, 526, 526])\n",
      "torch.Size([2, 1, 9, 9])\n",
      "tensor([-1.0000, -1.0000], dtype=torch.float64, grad_fn=<MeanBackward1>) tensor([-33.1923, -15.8469])\n",
      "torch.Size([2, 3, 526, 526])\n",
      "torch.Size([2, 1, 9, 9])\n",
      "tensor([-1.0000, -1.0000], dtype=torch.float64, grad_fn=<MeanBackward1>) tensor([-33.1052, -33.0986])\n",
      "torch.Size([2, 3, 526, 526])\n",
      "torch.Size([2, 1, 9, 9])\n",
      "tensor([-1.0000, -1.0000], dtype=torch.float64, grad_fn=<MeanBackward1>) tensor([-14.8080, -33.0953])\n",
      "torch.Size([2, 3, 526, 526])\n",
      "torch.Size([2, 1, 9, 9])\n",
      "tensor([-1.0000, -1.0000], dtype=torch.float64, grad_fn=<MeanBackward1>) tensor([-33.0999, -33.1637])\n"
     ]
    },
    {
     "ename": "KeyboardInterrupt",
     "evalue": "",
     "output_type": "error",
     "traceback": [
      "\u001b[0;31m---------------------------------------------------------------------------\u001b[0m",
      "\u001b[0;31mKeyboardInterrupt\u001b[0m                         Traceback (most recent call last)",
      "\u001b[0;32m<ipython-input-84-04be97eb8cd9>\u001b[0m in \u001b[0;36m<module>\u001b[0;34m\u001b[0m\n\u001b[1;32m     13\u001b[0m         \u001b[0mprint\u001b[0m\u001b[0;34m(\u001b[0m\u001b[0my\u001b[0m\u001b[0;34m,\u001b[0m\u001b[0mbatch\u001b[0m\u001b[0;34m[\u001b[0m\u001b[0;34m'rvs'\u001b[0m\u001b[0;34m]\u001b[0m\u001b[0;34m)\u001b[0m\u001b[0;34m\u001b[0m\u001b[0;34m\u001b[0m\u001b[0m\n\u001b[1;32m     14\u001b[0m         \u001b[0mloss\u001b[0m \u001b[0;34m=\u001b[0m \u001b[0mmse_loss\u001b[0m\u001b[0;34m(\u001b[0m\u001b[0my\u001b[0m\u001b[0;34m,\u001b[0m\u001b[0mbatch\u001b[0m\u001b[0;34m[\u001b[0m\u001b[0;34m'rvs'\u001b[0m\u001b[0;34m]\u001b[0m\u001b[0;34m.\u001b[0m\u001b[0mdouble\u001b[0m\u001b[0;34m(\u001b[0m\u001b[0;34m)\u001b[0m\u001b[0;34m)\u001b[0m\u001b[0;34m\u001b[0m\u001b[0;34m\u001b[0m\u001b[0m\n\u001b[0;32m---> 15\u001b[0;31m         \u001b[0mloss\u001b[0m\u001b[0;34m.\u001b[0m\u001b[0mbackward\u001b[0m\u001b[0;34m(\u001b[0m\u001b[0;34m)\u001b[0m\u001b[0;34m\u001b[0m\u001b[0;34m\u001b[0m\u001b[0m\n\u001b[0m\u001b[1;32m     16\u001b[0m         \u001b[0moptimizer\u001b[0m\u001b[0;34m.\u001b[0m\u001b[0mstep\u001b[0m\u001b[0;34m(\u001b[0m\u001b[0;34m)\u001b[0m\u001b[0;34m\u001b[0m\u001b[0;34m\u001b[0m\u001b[0m\n\u001b[1;32m     17\u001b[0m \u001b[0;34m\u001b[0m\u001b[0m\n",
      "\u001b[0;32m/Library/Frameworks/Python.framework/Versions/3.7/lib/python3.7/site-packages/torch/tensor.py\u001b[0m in \u001b[0;36mbackward\u001b[0;34m(self, gradient, retain_graph, create_graph)\u001b[0m\n\u001b[1;32m    164\u001b[0m                 \u001b[0mproducts\u001b[0m\u001b[0;34m.\u001b[0m \u001b[0mDefaults\u001b[0m \u001b[0mto\u001b[0m\u001b[0;31m \u001b[0m\u001b[0;31m`\u001b[0m\u001b[0;31m`\u001b[0m\u001b[0;32mFalse\u001b[0m\u001b[0;31m`\u001b[0m\u001b[0;31m`\u001b[0m\u001b[0;34m.\u001b[0m\u001b[0;34m\u001b[0m\u001b[0;34m\u001b[0m\u001b[0m\n\u001b[1;32m    165\u001b[0m         \"\"\"\n\u001b[0;32m--> 166\u001b[0;31m         \u001b[0mtorch\u001b[0m\u001b[0;34m.\u001b[0m\u001b[0mautograd\u001b[0m\u001b[0;34m.\u001b[0m\u001b[0mbackward\u001b[0m\u001b[0;34m(\u001b[0m\u001b[0mself\u001b[0m\u001b[0;34m,\u001b[0m \u001b[0mgradient\u001b[0m\u001b[0;34m,\u001b[0m \u001b[0mretain_graph\u001b[0m\u001b[0;34m,\u001b[0m \u001b[0mcreate_graph\u001b[0m\u001b[0;34m)\u001b[0m\u001b[0;34m\u001b[0m\u001b[0;34m\u001b[0m\u001b[0m\n\u001b[0m\u001b[1;32m    167\u001b[0m \u001b[0;34m\u001b[0m\u001b[0m\n\u001b[1;32m    168\u001b[0m     \u001b[0;32mdef\u001b[0m \u001b[0mregister_hook\u001b[0m\u001b[0;34m(\u001b[0m\u001b[0mself\u001b[0m\u001b[0;34m,\u001b[0m \u001b[0mhook\u001b[0m\u001b[0;34m)\u001b[0m\u001b[0;34m:\u001b[0m\u001b[0;34m\u001b[0m\u001b[0;34m\u001b[0m\u001b[0m\n",
      "\u001b[0;32m/Library/Frameworks/Python.framework/Versions/3.7/lib/python3.7/site-packages/torch/autograd/__init__.py\u001b[0m in \u001b[0;36mbackward\u001b[0;34m(tensors, grad_tensors, retain_graph, create_graph, grad_variables)\u001b[0m\n\u001b[1;32m     97\u001b[0m     Variable._execution_engine.run_backward(\n\u001b[1;32m     98\u001b[0m         \u001b[0mtensors\u001b[0m\u001b[0;34m,\u001b[0m \u001b[0mgrad_tensors\u001b[0m\u001b[0;34m,\u001b[0m \u001b[0mretain_graph\u001b[0m\u001b[0;34m,\u001b[0m \u001b[0mcreate_graph\u001b[0m\u001b[0;34m,\u001b[0m\u001b[0;34m\u001b[0m\u001b[0;34m\u001b[0m\u001b[0m\n\u001b[0;32m---> 99\u001b[0;31m         allow_unreachable=True)  # allow_unreachable flag\n\u001b[0m\u001b[1;32m    100\u001b[0m \u001b[0;34m\u001b[0m\u001b[0m\n\u001b[1;32m    101\u001b[0m \u001b[0;34m\u001b[0m\u001b[0m\n",
      "\u001b[0;31mKeyboardInterrupt\u001b[0m: "
     ]
    }
   ],
   "source": [
    "prev_time = time.time()\n",
    "n_epochs = 1\n",
    "# validiter = iter(validloader)\n",
    "for epoch in range(n_epochs):\n",
    "    for i, batch in enumerate(dataloader):\n",
    "#         def into_func():\n",
    "        optimizer.zero_grad()\n",
    "#         print(batch['img'].shape)\n",
    "        something = model(batch['img'])\n",
    "#         print(something.shape)\n",
    "#         y = torch.mean(something)\n",
    "        y = something.view(batch['img'].shape[0], -1).mean(1)\n",
    "#         print(y,batch['rvs'])\n",
    "        loss = mse_loss(y,batch['rvs'].double())\n",
    "        loss.backward()\n",
    "        optimizer.step()\n",
    "\n",
    "            \n",
    "#         into_func()\n",
    "#         if i % 5 == 0:\n",
    "#             imgs, target_rv = validiter.next()\n",
    "#             optimizer.zero_grad()\n",
    "#             something = model(imgs)\n",
    "#             y = torch.mean(something)\n",
    "#             loss = mse_loss(y,target_rv.double())\n",
    "            \n",
    "#             sys.stdout.write(\n",
    "#                 \"\\r[Epoch %d/%d] [Batch %d/%d] [Loss: %f]\"\n",
    "#                 % (\n",
    "#                     epoch,\n",
    "#                     n_epochs,\n",
    "#                     i,\n",
    "#                     len(dataloader),\n",
    "#                     loss.item()\n",
    "#                 )  \n",
    "#         )"
   ]
  },
  {
   "cell_type": "code",
   "execution_count": null,
   "id": "bff6e5c3",
   "metadata": {},
   "outputs": [],
   "source": []
  }
 ],
 "metadata": {
  "kernelspec": {
   "display_name": "Python 3",
   "language": "python",
   "name": "python3"
  },
  "language_info": {
   "codemirror_mode": {
    "name": "ipython",
    "version": 3
   },
   "file_extension": ".py",
   "mimetype": "text/x-python",
   "name": "python",
   "nbconvert_exporter": "python",
   "pygments_lexer": "ipython3",
   "version": "3.7.1"
  }
 },
 "nbformat": 4,
 "nbformat_minor": 5
}
